{
 "cells": [
  {
   "cell_type": "code",
   "execution_count": 1,
   "id": "b27c5310",
   "metadata": {},
   "outputs": [],
   "source": [
    "import numpy as np"
   ]
  },
  {
   "cell_type": "code",
   "execution_count": 2,
   "id": "df87634b",
   "metadata": {},
   "outputs": [],
   "source": [
    "from scipy import stats"
   ]
  },
  {
   "cell_type": "code",
   "execution_count": 3,
   "id": "72105e22",
   "metadata": {},
   "outputs": [
    {
     "data": {
      "text/plain": [
       "array([ 4,  8,  4,  1, 59, 23])"
      ]
     },
     "execution_count": 3,
     "metadata": {},
     "output_type": "execute_result"
    }
   ],
   "source": [
    "akash=np.array([4,8,4,1,59,23])\n",
    "akash"
   ]
  },
  {
   "cell_type": "code",
   "execution_count": 4,
   "id": "80d19800",
   "metadata": {},
   "outputs": [
    {
     "name": "stdout",
     "output_type": "stream",
     "text": [
      "16.5\n"
     ]
    }
   ],
   "source": [
    "print(np.mean(akash))"
   ]
  },
  {
   "cell_type": "code",
   "execution_count": 5,
   "id": "24ade793",
   "metadata": {},
   "outputs": [
    {
     "data": {
      "text/plain": [
       "16.5"
      ]
     },
     "execution_count": 5,
     "metadata": {},
     "output_type": "execute_result"
    }
   ],
   "source": [
    "mean = np.mean(akash)  # Alternate way\n",
    "mean"
   ]
  },
  {
   "cell_type": "code",
   "execution_count": 6,
   "id": "3c6f113f",
   "metadata": {},
   "outputs": [
    {
     "name": "stdout",
     "output_type": "stream",
     "text": [
      "6.0\n"
     ]
    }
   ],
   "source": [
    "print(np.median(akash))"
   ]
  },
  {
   "cell_type": "code",
   "execution_count": 7,
   "id": "bc7d807d",
   "metadata": {},
   "outputs": [
    {
     "name": "stdout",
     "output_type": "stream",
     "text": [
      "ModeResult(mode=array([4]), count=array([2]))\n"
     ]
    }
   ],
   "source": [
    "print(stats.mode(akash))"
   ]
  },
  {
   "cell_type": "code",
   "execution_count": 8,
   "id": "f1816b1d",
   "metadata": {},
   "outputs": [
    {
     "data": {
      "text/plain": [
       "array([12, 46, 23, 87, 32, 54])"
      ]
     },
     "execution_count": 8,
     "metadata": {},
     "output_type": "execute_result"
    }
   ],
   "source": [
    "akash1=np.array([12,46,23,87,32,54])\n",
    "akash1"
   ]
  },
  {
   "cell_type": "code",
   "execution_count": 9,
   "id": "2c20ec97",
   "metadata": {},
   "outputs": [
    {
     "name": "stdout",
     "output_type": "stream",
     "text": [
      "42.333333333333336\n"
     ]
    }
   ],
   "source": [
    "print(np.mean(akash1))"
   ]
  },
  {
   "cell_type": "code",
   "execution_count": 10,
   "id": "09c9de5a",
   "metadata": {},
   "outputs": [
    {
     "name": "stdout",
     "output_type": "stream",
     "text": [
      "6.0\n"
     ]
    }
   ],
   "source": [
    "print(np.median(akash))"
   ]
  },
  {
   "cell_type": "code",
   "execution_count": 11,
   "id": "af6d770c",
   "metadata": {},
   "outputs": [
    {
     "name": "stdout",
     "output_type": "stream",
     "text": [
      "ModeResult(mode=array([12]), count=array([1]))\n"
     ]
    }
   ],
   "source": [
    "print(stats.mode(akash1))"
   ]
  },
  {
   "cell_type": "code",
   "execution_count": 12,
   "id": "b1454752",
   "metadata": {},
   "outputs": [
    {
     "data": {
      "text/plain": [
       "array([ 34,  23,  67, 221, 453,  23])"
      ]
     },
     "execution_count": 12,
     "metadata": {},
     "output_type": "execute_result"
    }
   ],
   "source": [
    "akash2=np.array([34,23,67,221,453,23])\n",
    "akash2"
   ]
  },
  {
   "cell_type": "code",
   "execution_count": 13,
   "id": "6cb969d8",
   "metadata": {},
   "outputs": [
    {
     "name": "stdout",
     "output_type": "stream",
     "text": [
      "136.83333333333334\n"
     ]
    }
   ],
   "source": [
    "print(np.mean(akash2))"
   ]
  },
  {
   "cell_type": "code",
   "execution_count": 14,
   "id": "fa093db5",
   "metadata": {},
   "outputs": [
    {
     "name": "stdout",
     "output_type": "stream",
     "text": [
      "50.5\n"
     ]
    }
   ],
   "source": [
    "print(np.median(akash2))"
   ]
  },
  {
   "cell_type": "code",
   "execution_count": 15,
   "id": "d6ecde35",
   "metadata": {},
   "outputs": [
    {
     "name": "stdout",
     "output_type": "stream",
     "text": [
      "ModeResult(mode=array([23]), count=array([2]))\n"
     ]
    }
   ],
   "source": [
    "print(stats.mode(akash2))"
   ]
  },
  {
   "cell_type": "code",
   "execution_count": 16,
   "id": "87c6b0a8",
   "metadata": {},
   "outputs": [
    {
     "data": {
      "text/plain": [
       "array([  43,   65,  789,  432, 1246, 5433,   43,   65,  789,  342])"
      ]
     },
     "execution_count": 16,
     "metadata": {},
     "output_type": "execute_result"
    }
   ],
   "source": [
    "akash3=np.array([43,65,789,432,1246,5433,43,65,789,342])\n",
    "akash3"
   ]
  },
  {
   "cell_type": "code",
   "execution_count": 17,
   "id": "3b5a1e4d",
   "metadata": {},
   "outputs": [
    {
     "name": "stdout",
     "output_type": "stream",
     "text": [
      "924.7\n",
      "387.0\n",
      "ModeResult(mode=array([43]), count=array([2]))\n"
     ]
    }
   ],
   "source": [
    "print(np.mean(akash3))\n",
    "print(np.median(akash3))\n",
    "print(stats.mode(akash3))"
   ]
  },
  {
   "cell_type": "code",
   "execution_count": 18,
   "id": "3fade0d9",
   "metadata": {},
   "outputs": [
    {
     "name": "stdout",
     "output_type": "stream",
     "text": [
      "20.303940504246953\n"
     ]
    }
   ],
   "source": [
    "print(np.std(akash))\n",
    "\n"
   ]
  },
  {
   "cell_type": "code",
   "execution_count": 19,
   "id": "ee51f9d1",
   "metadata": {},
   "outputs": [
    {
     "name": "stdout",
     "output_type": "stream",
     "text": [
      "24.30820620467271\n"
     ]
    }
   ],
   "source": [
    "print(np.std(akash1))"
   ]
  },
  {
   "cell_type": "code",
   "execution_count": 20,
   "id": "a64ea54d",
   "metadata": {},
   "outputs": [
    {
     "name": "stdout",
     "output_type": "stream",
     "text": [
      "157.27514813924742\n"
     ]
    }
   ],
   "source": [
    "print(np.std(akash2))"
   ]
  },
  {
   "cell_type": "code",
   "execution_count": 21,
   "id": "fb1489c7",
   "metadata": {},
   "outputs": [
    {
     "name": "stdout",
     "output_type": "stream",
     "text": [
      "1551.7758246602502\n"
     ]
    }
   ],
   "source": [
    "print(np.std(akash3))"
   ]
  },
  {
   "cell_type": "code",
   "execution_count": 22,
   "id": "ca3cb5a4",
   "metadata": {},
   "outputs": [
    {
     "data": {
      "text/plain": [
       "412.25"
      ]
     },
     "execution_count": 22,
     "metadata": {},
     "output_type": "execute_result"
    }
   ],
   "source": [
    "np.var(akash)"
   ]
  },
  {
   "cell_type": "code",
   "execution_count": 23,
   "id": "2da8c6bb",
   "metadata": {},
   "outputs": [
    {
     "data": {
      "text/plain": [
       "590.8888888888888"
      ]
     },
     "execution_count": 23,
     "metadata": {},
     "output_type": "execute_result"
    }
   ],
   "source": [
    "np.var(akash1)"
   ]
  },
  {
   "cell_type": "code",
   "execution_count": 24,
   "id": "5370e0ae",
   "metadata": {},
   "outputs": [
    {
     "data": {
      "text/plain": [
       "24735.47222222222"
      ]
     },
     "execution_count": 24,
     "metadata": {},
     "output_type": "execute_result"
    }
   ],
   "source": [
    "np.var(akash2)"
   ]
  },
  {
   "cell_type": "code",
   "execution_count": 25,
   "id": "546e555a",
   "metadata": {},
   "outputs": [
    {
     "data": {
      "text/plain": [
       "2408008.21"
      ]
     },
     "execution_count": 25,
     "metadata": {},
     "output_type": "execute_result"
    }
   ],
   "source": [
    "np.var(akash3)"
   ]
  }
 ],
 "metadata": {
  "kernelspec": {
   "display_name": "Python 3 (ipykernel)",
   "language": "python",
   "name": "python3"
  },
  "language_info": {
   "codemirror_mode": {
    "name": "ipython",
    "version": 3
   },
   "file_extension": ".py",
   "mimetype": "text/x-python",
   "name": "python",
   "nbconvert_exporter": "python",
   "pygments_lexer": "ipython3",
   "version": "3.9.7"
  }
 },
 "nbformat": 4,
 "nbformat_minor": 5
}
