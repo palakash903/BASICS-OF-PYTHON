{
 "cells": [
  {
   "cell_type": "markdown",
   "id": "87dd5bf3",
   "metadata": {},
   "source": [
    "### SOLVE BELOW QUESTION"
   ]
  },
  {
   "cell_type": "markdown",
   "id": "f2ed10d9",
   "metadata": {},
   "source": [
    "### 1. Create a list of integer and float data type\n",
    "### 2. Find the number of element in the list\n",
    "### 3. Find the maximum and minimum value\n",
    "### 4. Append a new element to the list\n",
    "### 5. Create a copy of the list\n",
    "### 6. Return index positin of an object\n",
    "### 7. Insert a new element at the specified index position\n",
    "### 8. Delete an element from the list\n",
    "### 9. Reverse a list\n",
    "### 10. Sort a list\n",
    "### 11. Remove all the element from the list"
   ]
  },
  {
   "cell_type": "code",
   "execution_count": 20,
   "id": "224a9b40",
   "metadata": {},
   "outputs": [],
   "source": [
    "list_akash = [19, 12, 2.8, 30, 3.9]"
   ]
  },
  {
   "cell_type": "code",
   "execution_count": 21,
   "id": "add3730f",
   "metadata": {},
   "outputs": [
    {
     "data": {
      "text/plain": [
       "5"
      ]
     },
     "execution_count": 21,
     "metadata": {},
     "output_type": "execute_result"
    }
   ],
   "source": [
    "len(list_akash)"
   ]
  },
  {
   "cell_type": "code",
   "execution_count": 22,
   "id": "89357354",
   "metadata": {},
   "outputs": [
    {
     "data": {
      "text/plain": [
       "30"
      ]
     },
     "execution_count": 22,
     "metadata": {},
     "output_type": "execute_result"
    }
   ],
   "source": [
    "max(list_akash)"
   ]
  },
  {
   "cell_type": "code",
   "execution_count": 23,
   "id": "0817e6f6",
   "metadata": {},
   "outputs": [
    {
     "data": {
      "text/plain": [
       "2.8"
      ]
     },
     "execution_count": 23,
     "metadata": {},
     "output_type": "execute_result"
    }
   ],
   "source": [
    "min(list_akash)"
   ]
  },
  {
   "cell_type": "code",
   "execution_count": 24,
   "id": "9ba3d20d",
   "metadata": {},
   "outputs": [
    {
     "data": {
      "text/plain": [
       "[19, 12, 2.8, 30, 3.9, 10]"
      ]
     },
     "execution_count": 24,
     "metadata": {},
     "output_type": "execute_result"
    }
   ],
   "source": [
    "list_akash.append(10)\n",
    "list_akash"
   ]
  },
  {
   "cell_type": "code",
   "execution_count": 25,
   "id": "9a36461f",
   "metadata": {},
   "outputs": [
    {
     "data": {
      "text/plain": [
       "[19, 12, 2.8, 30, 3.9, 10]"
      ]
     },
     "execution_count": 25,
     "metadata": {},
     "output_type": "execute_result"
    }
   ],
   "source": [
    "list_akash_copy = list_akash.copy()\n",
    "list_akash_copy"
   ]
  },
  {
   "cell_type": "code",
   "execution_count": 26,
   "id": "38779f3a",
   "metadata": {},
   "outputs": [
    {
     "data": {
      "text/plain": [
       "4"
      ]
     },
     "execution_count": 26,
     "metadata": {},
     "output_type": "execute_result"
    }
   ],
   "source": [
    "list_akash.index(3.9)"
   ]
  },
  {
   "cell_type": "code",
   "execution_count": 27,
   "id": "4f356319",
   "metadata": {},
   "outputs": [
    {
     "data": {
      "text/plain": [
       "[19, 12, 79, 2.8, 30, 3.9, 10]"
      ]
     },
     "execution_count": 27,
     "metadata": {},
     "output_type": "execute_result"
    }
   ],
   "source": [
    "list_akash.insert(2,79)         # 2 is index and 79 is the number which will be added in the list\n",
    "list_akash"
   ]
  },
  {
   "cell_type": "code",
   "execution_count": 28,
   "id": "c3c193c0",
   "metadata": {},
   "outputs": [
    {
     "data": {
      "text/plain": [
       "[19, 12, 79, 30, 3.9, 10]"
      ]
     },
     "execution_count": 28,
     "metadata": {},
     "output_type": "execute_result"
    }
   ],
   "source": [
    "list_akash.remove(2.8)         # 2.8 is being removed from the list\n",
    "list_akash"
   ]
  },
  {
   "cell_type": "code",
   "execution_count": 11,
   "id": "cd801070",
   "metadata": {},
   "outputs": [
    {
     "data": {
      "text/plain": [
       "[10, 3.9, 30, 79, 12, 19]"
      ]
     },
     "execution_count": 11,
     "metadata": {},
     "output_type": "execute_result"
    }
   ],
   "source": [
    "list_akash.reverse()\n",
    "list_akash"
   ]
  },
  {
   "cell_type": "code",
   "execution_count": 12,
   "id": "b7079c9d",
   "metadata": {},
   "outputs": [
    {
     "data": {
      "text/plain": [
       "[3.9, 10, 12, 19, 30, 79]"
      ]
     },
     "execution_count": 12,
     "metadata": {},
     "output_type": "execute_result"
    }
   ],
   "source": [
    "list_akash.sort()\n",
    "list_akash"
   ]
  },
  {
   "cell_type": "code",
   "execution_count": 13,
   "id": "e3fa4fc4",
   "metadata": {},
   "outputs": [
    {
     "data": {
      "text/plain": [
       "[]"
      ]
     },
     "execution_count": 13,
     "metadata": {},
     "output_type": "execute_result"
    }
   ],
   "source": [
    "list_akash.clear()\n",
    "list_akash"
   ]
  },
  {
   "cell_type": "code",
   "execution_count": 14,
   "id": "3481f32a",
   "metadata": {},
   "outputs": [
    {
     "data": {
      "text/plain": [
       "(['Nishad', 'Kapil', 'Armugraj'],\n",
       " ['Nishad', 'Kapil', 'Shubhankar'],\n",
       " list,\n",
       " list)"
      ]
     },
     "execution_count": 14,
     "metadata": {},
     "output_type": "execute_result"
    }
   ],
   "source": [
    " # example of copy command\n",
    "A = ['Nishad','Kapil','Armugraj']\n",
    "B = A.copy()\n",
    "B[2] = 'Shubhankar'\n",
    "A, B, type(A), type(B)"
   ]
  },
  {
   "cell_type": "markdown",
   "id": "41fc7c94",
   "metadata": {},
   "source": [
    "## #Tuple\n",
    "### 1. Tuple is Hetrogenous because it allows multiple data types\n",
    "### 2. Index starts from 0 and Retrieve using index\n",
    "### 3. Cannot change the data once declared. i.e Immutable\n",
    "### 4. It is represented by ()"
   ]
  },
  {
   "cell_type": "code",
   "execution_count": 15,
   "id": "70530b18",
   "metadata": {},
   "outputs": [
    {
     "data": {
      "text/plain": [
       "(3, 48, 4.7, 'nishad', (6+7j), 9, 2.3)"
      ]
     },
     "execution_count": 15,
     "metadata": {},
     "output_type": "execute_result"
    }
   ],
   "source": [
    "Akash_tuple = (3, 48, 4.7, \"nishad\", 6+7j, 9, 2.3)\n",
    "Akash_tuple"
   ]
  },
  {
   "cell_type": "code",
   "execution_count": 16,
   "id": "6fb58e59",
   "metadata": {},
   "outputs": [
    {
     "data": {
      "text/plain": [
       "(3, 48, 4.7, 'nishad', (6+7j), 9, 2.3)"
      ]
     },
     "execution_count": 16,
     "metadata": {},
     "output_type": "execute_result"
    }
   ],
   "source": [
    "Akash_tuple = 3, 48, 4.7, \"nishad\", 6+7j, 9, 2.3  # without parenthesis also it will consider it as tuple.\n",
    "Akash_tuple"
   ]
  },
  {
   "cell_type": "code",
   "execution_count": 17,
   "id": "561692cf",
   "metadata": {},
   "outputs": [
    {
     "data": {
      "text/plain": [
       "tuple"
      ]
     },
     "execution_count": 17,
     "metadata": {},
     "output_type": "execute_result"
    }
   ],
   "source": [
    "type(Akash_tuple)"
   ]
  },
  {
   "cell_type": "code",
   "execution_count": 18,
   "id": "637e0fc1",
   "metadata": {},
   "outputs": [
    {
     "data": {
      "text/plain": [
       "4.7"
      ]
     },
     "execution_count": 18,
     "metadata": {},
     "output_type": "execute_result"
    }
   ],
   "source": [
    "Akash_tuple[2]"
   ]
  },
  {
   "cell_type": "code",
   "execution_count": 19,
   "id": "57880b12",
   "metadata": {},
   "outputs": [
    {
     "ename": "IndexError",
     "evalue": "tuple index out of range",
     "output_type": "error",
     "traceback": [
      "\u001b[1;31m---------------------------------------------------------------------------\u001b[0m",
      "\u001b[1;31mIndexError\u001b[0m                                Traceback (most recent call last)",
      "\u001b[1;32m~\\AppData\\Local\\Temp/ipykernel_9156/1249781424.py\u001b[0m in \u001b[0;36m<module>\u001b[1;34m\u001b[0m\n\u001b[1;32m----> 1\u001b[1;33m \u001b[0mAkash_tuple\u001b[0m\u001b[1;33m[\u001b[0m\u001b[1;36m9\u001b[0m\u001b[1;33m]\u001b[0m    \u001b[1;31m#index is out of range\u001b[0m\u001b[1;33m\u001b[0m\u001b[1;33m\u001b[0m\u001b[0m\n\u001b[0m",
      "\u001b[1;31mIndexError\u001b[0m: tuple index out of range"
     ]
    }
   ],
   "source": [
    "Akash_tuple[9]    # Error- index is out of range"
   ]
  },
  {
   "cell_type": "code",
   "execution_count": 29,
   "id": "de9b88b4",
   "metadata": {},
   "outputs": [
    {
     "ename": "AttributeError",
     "evalue": "'tuple' object has no attribute 'reverse'",
     "output_type": "error",
     "traceback": [
      "\u001b[1;31m---------------------------------------------------------------------------\u001b[0m",
      "\u001b[1;31mAttributeError\u001b[0m                            Traceback (most recent call last)",
      "\u001b[1;32m~\\AppData\\Local\\Temp/ipykernel_9156/4025304534.py\u001b[0m in \u001b[0;36m<module>\u001b[1;34m\u001b[0m\n\u001b[1;32m----> 1\u001b[1;33m \u001b[0mAkash_tuple\u001b[0m\u001b[1;33m.\u001b[0m\u001b[0mreverse\u001b[0m\u001b[1;33m(\u001b[0m\u001b[1;33m)\u001b[0m   \u001b[1;31m#immutable\u001b[0m\u001b[1;33m\u001b[0m\u001b[1;33m\u001b[0m\u001b[0m\n\u001b[0m",
      "\u001b[1;31mAttributeError\u001b[0m: 'tuple' object has no attribute 'reverse'"
     ]
    }
   ],
   "source": [
    "Akash_tuple.reverse()   #error - tuple is immutable"
   ]
  },
  {
   "cell_type": "code",
   "execution_count": 30,
   "id": "62197664",
   "metadata": {},
   "outputs": [
    {
     "ename": "TypeError",
     "evalue": "'tuple' object does not support item assignment",
     "output_type": "error",
     "traceback": [
      "\u001b[1;31m---------------------------------------------------------------------------\u001b[0m",
      "\u001b[1;31mTypeError\u001b[0m                                 Traceback (most recent call last)",
      "\u001b[1;32m~\\AppData\\Local\\Temp/ipykernel_9156/2766512077.py\u001b[0m in \u001b[0;36m<module>\u001b[1;34m\u001b[0m\n\u001b[1;32m----> 1\u001b[1;33m \u001b[0mAkash_tuple\u001b[0m\u001b[1;33m[\u001b[0m\u001b[1;36m4\u001b[0m\u001b[1;33m]\u001b[0m \u001b[1;33m=\u001b[0m \u001b[1;36m29\u001b[0m       \u001b[1;31m#immutable\u001b[0m\u001b[1;33m\u001b[0m\u001b[1;33m\u001b[0m\u001b[0m\n\u001b[0m",
      "\u001b[1;31mTypeError\u001b[0m: 'tuple' object does not support item assignment"
     ]
    }
   ],
   "source": [
    "Akash_tuple[4] = 29       #immutable"
   ]
  },
  {
   "cell_type": "code",
   "execution_count": 32,
   "id": "834cd303",
   "metadata": {},
   "outputs": [
    {
     "ename": "AttributeError",
     "evalue": "'tuple' object has no attribute 'append'",
     "output_type": "error",
     "traceback": [
      "\u001b[1;31m---------------------------------------------------------------------------\u001b[0m",
      "\u001b[1;31mAttributeError\u001b[0m                            Traceback (most recent call last)",
      "\u001b[1;32m~\\AppData\\Local\\Temp/ipykernel_9156/4066250592.py\u001b[0m in \u001b[0;36m<module>\u001b[1;34m\u001b[0m\n\u001b[1;32m----> 1\u001b[1;33m \u001b[0mAkash_tuple\u001b[0m\u001b[1;33m.\u001b[0m\u001b[0mappend\u001b[0m\u001b[1;33m(\u001b[0m\u001b[1;36m5\u001b[0m\u001b[1;33m)\u001b[0m  \u001b[1;31m#'tuple' object has no attribute 'append'\u001b[0m\u001b[1;33m\u001b[0m\u001b[1;33m\u001b[0m\u001b[0m\n\u001b[0m",
      "\u001b[1;31mAttributeError\u001b[0m: 'tuple' object has no attribute 'append'"
     ]
    }
   ],
   "source": [
    "Akash_tuple.append(5)  #'tuple' object has no attribute 'append'"
   ]
  },
  {
   "cell_type": "code",
   "execution_count": 33,
   "id": "5e8c8fd4",
   "metadata": {},
   "outputs": [
    {
     "ename": "AttributeError",
     "evalue": "'tuple' object has no attribute 'remove'",
     "output_type": "error",
     "traceback": [
      "\u001b[1;31m---------------------------------------------------------------------------\u001b[0m",
      "\u001b[1;31mAttributeError\u001b[0m                            Traceback (most recent call last)",
      "\u001b[1;32m~\\AppData\\Local\\Temp/ipykernel_9156/2505510074.py\u001b[0m in \u001b[0;36m<module>\u001b[1;34m\u001b[0m\n\u001b[1;32m----> 1\u001b[1;33m \u001b[0mAkash_tuple\u001b[0m\u001b[1;33m.\u001b[0m\u001b[0mremove\u001b[0m\u001b[1;33m(\u001b[0m\u001b[1;34m\"hi\"\u001b[0m\u001b[1;33m)\u001b[0m\u001b[1;33m\u001b[0m\u001b[1;33m\u001b[0m\u001b[0m\n\u001b[0m",
      "\u001b[1;31mAttributeError\u001b[0m: 'tuple' object has no attribute 'remove'"
     ]
    }
   ],
   "source": [
    "Akash_tuple.remove(\"hi\")   #'tuple' object has no attribute 'remove'"
   ]
  },
  {
   "cell_type": "code",
   "execution_count": 34,
   "id": "3335463c",
   "metadata": {},
   "outputs": [
    {
     "data": {
      "text/plain": [
       "[356, 312, 329]"
      ]
     },
     "execution_count": 34,
     "metadata": {},
     "output_type": "execute_result"
    }
   ],
   "source": [
    "x = (356, 312, 329)        # x is a tuple and y is a list\n",
    "y = list(x)               # We have to convert tuple into a list to make it mutable\n",
    "y"
   ]
  },
  {
   "cell_type": "code",
   "execution_count": 35,
   "id": "a2b9b361",
   "metadata": {},
   "outputs": [
    {
     "data": {
      "text/plain": [
       "[356, 329]"
      ]
     },
     "execution_count": 35,
     "metadata": {},
     "output_type": "execute_result"
    }
   ],
   "source": [
    "y.remove(312)\n",
    "y"
   ]
  },
  {
   "cell_type": "code",
   "execution_count": 36,
   "id": "3a2f6a8d",
   "metadata": {},
   "outputs": [
    {
     "data": {
      "text/plain": [
       "[356, 329, 687]"
      ]
     },
     "execution_count": 36,
     "metadata": {},
     "output_type": "execute_result"
    }
   ],
   "source": [
    "y.append(687)\n",
    "y"
   ]
  },
  {
   "cell_type": "markdown",
   "id": "7ab5c3d8",
   "metadata": {},
   "source": [
    "## #SET\n",
    "### 1. allowe heterogenous entry\n",
    "### 2. it doesn't allow duplicate\n",
    "### 3 we cannot access elements using index\n",
    "### 4. Set is immutable using index but it is mutable for removing & adding element from the set\n",
    "### 5. set ordered itself keeping in mind the first place"
   ]
  },
  {
   "cell_type": "code",
   "execution_count": 37,
   "id": "a6945d50",
   "metadata": {},
   "outputs": [
    {
     "data": {
      "text/plain": [
       "set"
      ]
     },
     "execution_count": 37,
     "metadata": {},
     "output_type": "execute_result"
    }
   ],
   "source": [
    "Akash_set = {432, 9, 236, 48, 3.46, \"nishad\", \"kapil\", \"armugraj\", 3+4j, 54.87}\n",
    "type(Akash_set)"
   ]
  },
  {
   "cell_type": "code",
   "execution_count": 38,
   "id": "991c1e06",
   "metadata": {},
   "outputs": [
    {
     "data": {
      "text/plain": [
       "{(3+4j), 236, 3.46, 432, 48, 54.87, 9, 'armugraj', 'kapil', 'nishad'}"
      ]
     },
     "execution_count": 38,
     "metadata": {},
     "output_type": "execute_result"
    }
   ],
   "source": [
    "Akash_set"
   ]
  },
  {
   "cell_type": "code",
   "execution_count": 39,
   "id": "14525c90",
   "metadata": {},
   "outputs": [
    {
     "ename": "TypeError",
     "evalue": "'set' object is not subscriptable",
     "output_type": "error",
     "traceback": [
      "\u001b[1;31m---------------------------------------------------------------------------\u001b[0m",
      "\u001b[1;31mTypeError\u001b[0m                                 Traceback (most recent call last)",
      "\u001b[1;32m~\\AppData\\Local\\Temp/ipykernel_9156/1117039519.py\u001b[0m in \u001b[0;36m<module>\u001b[1;34m\u001b[0m\n\u001b[1;32m----> 1\u001b[1;33m \u001b[0mAkash_set\u001b[0m\u001b[1;33m[\u001b[0m\u001b[1;36m2\u001b[0m\u001b[1;33m]\u001b[0m     \u001b[1;31m#we cannot access elements using index\u001b[0m\u001b[1;33m\u001b[0m\u001b[1;33m\u001b[0m\u001b[0m\n\u001b[0m",
      "\u001b[1;31mTypeError\u001b[0m: 'set' object is not subscriptable"
     ]
    }
   ],
   "source": [
    "Akash_set[2]     #we cannot access elements using index"
   ]
  },
  {
   "cell_type": "code",
   "execution_count": 40,
   "id": "708bb6a1",
   "metadata": {},
   "outputs": [
    {
     "data": {
      "text/plain": [
       "{(3+4j), 236, 3.46, 432, 48, 54.87, 9, 'armugraj', 'kapil'}"
      ]
     },
     "execution_count": 40,
     "metadata": {},
     "output_type": "execute_result"
    }
   ],
   "source": [
    "Akash_set.remove(\"nishad\")\n",
    "Akash_set"
   ]
  },
  {
   "cell_type": "code",
   "execution_count": 41,
   "id": "61db597c",
   "metadata": {},
   "outputs": [
    {
     "data": {
      "text/plain": [
       "{(3+4j), 236, 3.46, 432, 48, 54.87, 9, 'armugraj', 'kapil', 'nishad'}"
      ]
     },
     "execution_count": 41,
     "metadata": {},
     "output_type": "execute_result"
    }
   ],
   "source": [
    "Akash_set.add(\"nishad\")\n",
    "Akash_set"
   ]
  },
  {
   "cell_type": "code",
   "execution_count": 42,
   "id": "a91745ba",
   "metadata": {},
   "outputs": [
    {
     "data": {
      "text/plain": [
       "3.46"
      ]
     },
     "execution_count": 42,
     "metadata": {},
     "output_type": "execute_result"
    }
   ],
   "source": [
    "Akash_set.pop()    ### pop is used to pick a random element from the set"
   ]
  },
  {
   "cell_type": "code",
   "execution_count": 43,
   "id": "e81df8c7",
   "metadata": {},
   "outputs": [
    {
     "data": {
      "text/plain": [
       "9"
      ]
     },
     "execution_count": 43,
     "metadata": {},
     "output_type": "execute_result"
    }
   ],
   "source": [
    "Akash_set.pop()"
   ]
  },
  {
   "cell_type": "code",
   "execution_count": 44,
   "id": "a085405f",
   "metadata": {},
   "outputs": [
    {
     "data": {
      "text/plain": [
       "236"
      ]
     },
     "execution_count": 44,
     "metadata": {},
     "output_type": "execute_result"
    }
   ],
   "source": [
    "Akash_set.pop()"
   ]
  },
  {
   "cell_type": "code",
   "execution_count": 45,
   "id": "68e9bb53",
   "metadata": {},
   "outputs": [
    {
     "data": {
      "text/plain": [
       "432"
      ]
     },
     "execution_count": 45,
     "metadata": {},
     "output_type": "execute_result"
    }
   ],
   "source": [
    "Akash_set.pop()"
   ]
  },
  {
   "cell_type": "code",
   "execution_count": 46,
   "id": "b2a20c2e",
   "metadata": {},
   "outputs": [
    {
     "data": {
      "text/plain": [
       "48"
      ]
     },
     "execution_count": 46,
     "metadata": {},
     "output_type": "execute_result"
    }
   ],
   "source": [
    "Akash_set.pop()"
   ]
  },
  {
   "cell_type": "code",
   "execution_count": 47,
   "id": "dee33ea8",
   "metadata": {},
   "outputs": [
    {
     "data": {
      "text/plain": [
       "(3+4j)"
      ]
     },
     "execution_count": 47,
     "metadata": {},
     "output_type": "execute_result"
    }
   ],
   "source": [
    "Akash_set.pop()"
   ]
  },
  {
   "cell_type": "code",
   "execution_count": 48,
   "id": "6d0313c2",
   "metadata": {},
   "outputs": [
    {
     "data": {
      "text/plain": [
       "'nishad'"
      ]
     },
     "execution_count": 48,
     "metadata": {},
     "output_type": "execute_result"
    }
   ],
   "source": [
    "Akash_set.pop()"
   ]
  },
  {
   "cell_type": "code",
   "execution_count": 49,
   "id": "aa77f2ee",
   "metadata": {},
   "outputs": [
    {
     "data": {
      "text/plain": [
       "'armugraj'"
      ]
     },
     "execution_count": 49,
     "metadata": {},
     "output_type": "execute_result"
    }
   ],
   "source": [
    "Akash_set.pop()"
   ]
  },
  {
   "cell_type": "code",
   "execution_count": 50,
   "id": "f9ed4fea",
   "metadata": {},
   "outputs": [
    {
     "data": {
      "text/plain": [
       "54.87"
      ]
     },
     "execution_count": 50,
     "metadata": {},
     "output_type": "execute_result"
    }
   ],
   "source": [
    "Akash_set.pop()"
   ]
  },
  {
   "cell_type": "code",
   "execution_count": 51,
   "id": "a9efdcf1",
   "metadata": {},
   "outputs": [
    {
     "data": {
      "text/plain": [
       "'kapil'"
      ]
     },
     "execution_count": 51,
     "metadata": {},
     "output_type": "execute_result"
    }
   ],
   "source": [
    "Akash_set.pop()"
   ]
  },
  {
   "cell_type": "code",
   "execution_count": 52,
   "id": "66241c9b",
   "metadata": {},
   "outputs": [
    {
     "ename": "KeyError",
     "evalue": "'pop from an empty set'",
     "output_type": "error",
     "traceback": [
      "\u001b[1;31m---------------------------------------------------------------------------\u001b[0m",
      "\u001b[1;31mKeyError\u001b[0m                                  Traceback (most recent call last)",
      "\u001b[1;32m~\\AppData\\Local\\Temp/ipykernel_9156/2617624147.py\u001b[0m in \u001b[0;36m<module>\u001b[1;34m\u001b[0m\n\u001b[1;32m----> 1\u001b[1;33m \u001b[0mAkash_set\u001b[0m\u001b[1;33m.\u001b[0m\u001b[0mpop\u001b[0m\u001b[1;33m(\u001b[0m\u001b[1;33m)\u001b[0m   \u001b[1;31m# there is nothing left in the set so it will show empty set\u001b[0m\u001b[1;33m\u001b[0m\u001b[1;33m\u001b[0m\u001b[0m\n\u001b[0m",
      "\u001b[1;31mKeyError\u001b[0m: 'pop from an empty set'"
     ]
    }
   ],
   "source": [
    "Akash_set.pop()   # there is nothing left in the set so it will show empty set"
   ]
  },
  {
   "cell_type": "markdown",
   "id": "a3478310",
   "metadata": {},
   "source": [
    "## #Dictionary\n",
    "### 1. Dictionary has key value pair with datastructure\n",
    "### 2. Key is unique but the values of the key can be duplicated\n",
    "### 3. In case of duplicate key it will consider the last one\n",
    "### 4. We can change the value using key\n",
    "### 5 We can retrieve the value using key\n",
    "### 6. Key is immutable\n"
   ]
  },
  {
   "cell_type": "code",
   "execution_count": 53,
   "id": "e242be6c",
   "metadata": {},
   "outputs": [
    {
     "data": {
      "text/plain": [
       "dict"
      ]
     },
     "execution_count": 53,
     "metadata": {},
     "output_type": "execute_result"
    }
   ],
   "source": [
    "Akash_dict={\"Q\":\"Nishad\", \"R\":\"Kapil\", 1:34, 2:\"Box\", \"Q\":\"Akash\", 4:456, 1:456,9:\"Nine\"} #Q, R, 1, 2, 4, 9 these are called key\n",
    "type(Akash_dict)             # Nishad, Kapil, 34, Box these are called values"
   ]
  },
  {
   "cell_type": "code",
   "execution_count": 54,
   "id": "7503abe2",
   "metadata": {},
   "outputs": [
    {
     "data": {
      "text/plain": [
       "{'Q': 'Akash', 'R': 'Kapil', 1: 456, 2: 'Box', 4: 456, 9: 'Nine'}"
      ]
     },
     "execution_count": 54,
     "metadata": {},
     "output_type": "execute_result"
    }
   ],
   "source": [
    "Akash_dict  # key is unique and it consider th last value assigned to it"
   ]
  },
  {
   "cell_type": "code",
   "execution_count": 55,
   "id": "e559954b",
   "metadata": {},
   "outputs": [
    {
     "data": {
      "text/plain": [
       "'Kapil'"
      ]
     },
     "execution_count": 55,
     "metadata": {},
     "output_type": "execute_result"
    }
   ],
   "source": [
    "Akash_dict[\"R\"]  # Retrieving value using key"
   ]
  },
  {
   "cell_type": "code",
   "execution_count": 56,
   "id": "3bc88b69",
   "metadata": {},
   "outputs": [
    {
     "ename": "KeyError",
     "evalue": "'Akash'",
     "output_type": "error",
     "traceback": [
      "\u001b[1;31m---------------------------------------------------------------------------\u001b[0m",
      "\u001b[1;31mKeyError\u001b[0m                                  Traceback (most recent call last)",
      "\u001b[1;32m~\\AppData\\Local\\Temp/ipykernel_9156/2744731710.py\u001b[0m in \u001b[0;36m<module>\u001b[1;34m\u001b[0m\n\u001b[1;32m----> 1\u001b[1;33m \u001b[0mAkash_dict\u001b[0m\u001b[1;33m[\u001b[0m\u001b[1;34m\"Akash\"\u001b[0m\u001b[1;33m]\u001b[0m \u001b[1;31m# We cannot retrieve key using value\u001b[0m\u001b[1;33m\u001b[0m\u001b[1;33m\u001b[0m\u001b[0m\n\u001b[0m",
      "\u001b[1;31mKeyError\u001b[0m: 'Akash'"
     ]
    }
   ],
   "source": [
    " Akash_dict[\"Akash\"] # We cannot retrieve key usingn it's value"
   ]
  },
  {
   "cell_type": "code",
   "execution_count": 57,
   "id": "05892cec",
   "metadata": {},
   "outputs": [
    {
     "data": {
      "text/plain": [
       "{'Q': 'Akash', 'R': 'Kapil', 1: 'Harshit', 2: 'Box', 4: 456, 9: 'Nine'}"
      ]
     },
     "execution_count": 57,
     "metadata": {},
     "output_type": "execute_result"
    }
   ],
   "source": [
    "Akash_dict[1] = \"Harshit\"  # dict is mutable through key\n",
    "Akash_dict"
   ]
  },
  {
   "cell_type": "code",
   "execution_count": 58,
   "id": "2e92ca9c",
   "metadata": {},
   "outputs": [
    {
     "data": {
      "text/plain": [
       "{'Q': 'Akash',\n",
       " 'R': 'Kapil',\n",
       " 1: 'Harshit',\n",
       " 2: 'Box',\n",
       " 4: 456,\n",
       " 9: 'Nine',\n",
       " 8: '34'}"
      ]
     },
     "execution_count": 58,
     "metadata": {},
     "output_type": "execute_result"
    }
   ],
   "source": [
    "Akash_dict[8] = \"34\" # we cannot add new key and value to a dict\n",
    "Akash_dict"
   ]
  },
  {
   "cell_type": "code",
   "execution_count": 59,
   "id": "c48f38e7",
   "metadata": {},
   "outputs": [
    {
     "ename": "AttributeError",
     "evalue": "'dict' object has no attribute 'reverse'",
     "output_type": "error",
     "traceback": [
      "\u001b[1;31m---------------------------------------------------------------------------\u001b[0m",
      "\u001b[1;31mAttributeError\u001b[0m                            Traceback (most recent call last)",
      "\u001b[1;32m~\\AppData\\Local\\Temp/ipykernel_9156/2989208123.py\u001b[0m in \u001b[0;36m<module>\u001b[1;34m\u001b[0m\n\u001b[1;32m----> 1\u001b[1;33m \u001b[0mAkash_dict\u001b[0m\u001b[1;33m.\u001b[0m\u001b[0mreverse\u001b[0m\u001b[1;33m(\u001b[0m\u001b[1;33m)\u001b[0m   \u001b[1;31m# It is not reversible\u001b[0m\u001b[1;33m\u001b[0m\u001b[1;33m\u001b[0m\u001b[0m\n\u001b[0m",
      "\u001b[1;31mAttributeError\u001b[0m: 'dict' object has no attribute 'reverse'"
     ]
    }
   ],
   "source": [
    "Akash_dict.reverse()   # It is not reversible"
   ]
  },
  {
   "cell_type": "code",
   "execution_count": 60,
   "id": "b950b2d5",
   "metadata": {},
   "outputs": [
    {
     "data": {
      "text/plain": [
       "{'R': 'Kapil', 1: 'Harshit', 2: 'Box', 4: 456, 9: 'Nine', 8: '34'}"
      ]
     },
     "execution_count": 60,
     "metadata": {},
     "output_type": "execute_result"
    }
   ],
   "source": [
    "Akash_dict.pop(\"Q\")     # Key \"Q\" is deleted\n",
    "Akash_dict"
   ]
  },
  {
   "cell_type": "markdown",
   "id": "0a478e58",
   "metadata": {},
   "source": [
    "## #String\n",
    "### 1. String is retrievable using index\n",
    "### 2. String is immutable"
   ]
  },
  {
   "cell_type": "code",
   "execution_count": 61,
   "id": "f1aa3bc9",
   "metadata": {},
   "outputs": [],
   "source": [
    "akash_string = \"Today I am very happy.\""
   ]
  },
  {
   "cell_type": "code",
   "execution_count": 62,
   "id": "b76d6cd2",
   "metadata": {},
   "outputs": [
    {
     "data": {
      "text/plain": [
       "str"
      ]
     },
     "execution_count": 62,
     "metadata": {},
     "output_type": "execute_result"
    }
   ],
   "source": [
    "type(akash_string)"
   ]
  },
  {
   "cell_type": "code",
   "execution_count": 63,
   "id": "52a93ba6",
   "metadata": {},
   "outputs": [
    {
     "data": {
      "text/plain": [
       "'d'"
      ]
     },
     "execution_count": 63,
     "metadata": {},
     "output_type": "execute_result"
    }
   ],
   "source": [
    "akash_string[2]  # retrieving string element using index"
   ]
  },
  {
   "cell_type": "code",
   "execution_count": 64,
   "id": "6d64b027",
   "metadata": {},
   "outputs": [
    {
     "data": {
      "text/plain": [
       "'e'"
      ]
     },
     "execution_count": 64,
     "metadata": {},
     "output_type": "execute_result"
    }
   ],
   "source": [
    "akash_string[12]"
   ]
  },
  {
   "cell_type": "code",
   "execution_count": 65,
   "id": "e4e488eb",
   "metadata": {},
   "outputs": [
    {
     "data": {
      "text/plain": [
       "' '"
      ]
     },
     "execution_count": 65,
     "metadata": {},
     "output_type": "execute_result"
    }
   ],
   "source": [
    "akash_string[15]"
   ]
  },
  {
   "cell_type": "code",
   "execution_count": 66,
   "id": "3e26d05d",
   "metadata": {},
   "outputs": [
    {
     "ename": "TypeError",
     "evalue": "'str' object does not support item assignment",
     "output_type": "error",
     "traceback": [
      "\u001b[1;31m---------------------------------------------------------------------------\u001b[0m",
      "\u001b[1;31mTypeError\u001b[0m                                 Traceback (most recent call last)",
      "\u001b[1;32m~\\AppData\\Local\\Temp/ipykernel_9156/4008505545.py\u001b[0m in \u001b[0;36m<module>\u001b[1;34m\u001b[0m\n\u001b[1;32m----> 1\u001b[1;33m \u001b[0makash_string\u001b[0m\u001b[1;33m[\u001b[0m\u001b[1;36m4\u001b[0m\u001b[1;33m]\u001b[0m \u001b[1;33m=\u001b[0m \u001b[1;34m\"E\"\u001b[0m  \u001b[1;31m#String is immutable\u001b[0m\u001b[1;33m\u001b[0m\u001b[1;33m\u001b[0m\u001b[0m\n\u001b[0m",
      "\u001b[1;31mTypeError\u001b[0m: 'str' object does not support item assignment"
     ]
    }
   ],
   "source": [
    "akash_string[4] = \"E\"  #String is immutable"
   ]
  }
 ],
 "metadata": {
  "kernelspec": {
   "display_name": "Python 3 (ipykernel)",
   "language": "python",
   "name": "python3"
  },
  "language_info": {
   "codemirror_mode": {
    "name": "ipython",
    "version": 3
   },
   "file_extension": ".py",
   "mimetype": "text/x-python",
   "name": "python",
   "nbconvert_exporter": "python",
   "pygments_lexer": "ipython3",
   "version": "3.9.7"
  }
 },
 "nbformat": 4,
 "nbformat_minor": 5
}
