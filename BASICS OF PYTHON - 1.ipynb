{
 "cells": [
  {
   "cell_type": "code",
   "execution_count": 1,
   "id": "e0222a87",
   "metadata": {},
   "outputs": [
    {
     "name": "stdout",
     "output_type": "stream",
     "text": [
      "Hello World\n"
     ]
    }
   ],
   "source": [
    "print(\"Hello World\")"
   ]
  },
  {
   "cell_type": "code",
   "execution_count": 2,
   "id": "3646a1c7",
   "metadata": {
    "scrolled": true
   },
   "outputs": [
    {
     "name": "stdout",
     "output_type": "stream",
     "text": [
      "hi! Akash here\n"
     ]
    }
   ],
   "source": [
    "print(\"hi! Akash here\")"
   ]
  },
  {
   "cell_type": "code",
   "execution_count": null,
   "id": "93a04a71",
   "metadata": {},
   "outputs": [],
   "source": [
    "How to give heading\n",
    "### Python\n",
    "## Python\n",
    "# Python\n",
    "no. of # decides the font size (lesser the # larger the font size)\n",
    "# cell - cell type - markdown - run"
   ]
  },
  {
   "cell_type": "markdown",
   "id": "bf66a0da",
   "metadata": {},
   "source": [
    "### Python"
   ]
  },
  {
   "cell_type": "markdown",
   "id": "c0f07765",
   "metadata": {},
   "source": [
    "## Python"
   ]
  },
  {
   "cell_type": "markdown",
   "id": "d8944baf",
   "metadata": {},
   "source": [
    "# Python"
   ]
  },
  {
   "cell_type": "markdown",
   "id": "9a53a379",
   "metadata": {},
   "source": [
    "### python version"
   ]
  },
  {
   "cell_type": "code",
   "execution_count": 3,
   "id": "36b53891",
   "metadata": {},
   "outputs": [
    {
     "name": "stdout",
     "output_type": "stream",
     "text": [
      "Python 3.9.7\n"
     ]
    }
   ],
   "source": [
    "!python --version   # Know the version of your python"
   ]
  },
  {
   "cell_type": "code",
   "execution_count": 4,
   "id": "8581569c",
   "metadata": {},
   "outputs": [
    {
     "name": "stdout",
     "output_type": "stream",
     "text": [
      "130\n"
     ]
    }
   ],
   "source": [
    "# Addition\n",
    "a=45\n",
    "b=50\n",
    "c=35\n",
    "sum = a+c+b\n",
    "print(sum)"
   ]
  },
  {
   "cell_type": "code",
   "execution_count": 5,
   "id": "a86a2d03",
   "metadata": {},
   "outputs": [
    {
     "data": {
      "text/plain": [
       "130"
      ]
     },
     "execution_count": 5,
     "metadata": {},
     "output_type": "execute_result"
    }
   ],
   "source": [
    "sum                   # other ways to get output"
   ]
  },
  {
   "cell_type": "code",
   "execution_count": 6,
   "id": "dcef56a1",
   "metadata": {},
   "outputs": [
    {
     "data": {
      "text/plain": [
       "177"
      ]
     },
     "execution_count": 6,
     "metadata": {},
     "output_type": "execute_result"
    }
   ],
   "source": [
    "34+50+9+84               # In python we can do addition directly"
   ]
  },
  {
   "cell_type": "code",
   "execution_count": 7,
   "id": "c3350bba",
   "metadata": {},
   "outputs": [
    {
     "data": {
      "text/plain": [
       "2574"
      ]
     },
     "execution_count": 7,
     "metadata": {},
     "output_type": "execute_result"
    }
   ],
   "source": [
    "x=2340\n",
    "y=234\n",
    "x+y"
   ]
  },
  {
   "cell_type": "code",
   "execution_count": 8,
   "id": "6cc6a7a2",
   "metadata": {},
   "outputs": [
    {
     "data": {
      "text/plain": [
       "80"
      ]
     },
     "execution_count": 8,
     "metadata": {},
     "output_type": "execute_result"
    }
   ],
   "source": [
    "Q = 12+34-32+66\n",
    "Q"
   ]
  },
  {
   "cell_type": "code",
   "execution_count": 9,
   "id": "dedf964c",
   "metadata": {},
   "outputs": [
    {
     "data": {
      "text/plain": [
       "101"
      ]
     },
     "execution_count": 9,
     "metadata": {},
     "output_type": "execute_result"
    }
   ],
   "source": [
    "Q = (12+35+54)\n",
    "Q"
   ]
  },
  {
   "cell_type": "code",
   "execution_count": 10,
   "id": "62a18c77",
   "metadata": {},
   "outputs": [
    {
     "name": "stdout",
     "output_type": "stream",
     "text": [
      "88\n"
     ]
    }
   ],
   "source": [
    "print(34+54)"
   ]
  },
  {
   "cell_type": "code",
   "execution_count": 11,
   "id": "fe12a2e7",
   "metadata": {},
   "outputs": [
    {
     "name": "stdout",
     "output_type": "stream",
     "text": [
      "Hello World\n"
     ]
    }
   ],
   "source": [
    "print ('Hello World')    # String should be written in double/single inverted comma"
   ]
  },
  {
   "cell_type": "code",
   "execution_count": 12,
   "id": "28363388",
   "metadata": {},
   "outputs": [
    {
     "ename": "NameError",
     "evalue": "name 'Print' is not defined",
     "output_type": "error",
     "traceback": [
      "\u001b[1;31m---------------------------------------------------------------------------\u001b[0m",
      "\u001b[1;31mNameError\u001b[0m                                 Traceback (most recent call last)",
      "\u001b[1;32m~\\AppData\\Local\\Temp/ipykernel_4192/2365439000.py\u001b[0m in \u001b[0;36m<module>\u001b[1;34m\u001b[0m\n\u001b[1;32m----> 1\u001b[1;33m \u001b[0mPrint\u001b[0m \u001b[1;33m(\u001b[0m\u001b[1;34m\"Hello World\"\u001b[0m\u001b[1;33m)\u001b[0m    \u001b[1;31m# case sensitive (p should be written in small letter)\u001b[0m\u001b[1;33m\u001b[0m\u001b[1;33m\u001b[0m\u001b[0m\n\u001b[0m",
      "\u001b[1;31mNameError\u001b[0m: name 'Print' is not defined"
     ]
    }
   ],
   "source": [
    "Print (\"Hello World\")    # case sensitive (p should be written in small letter)"
   ]
  },
  {
   "cell_type": "code",
   "execution_count": 13,
   "id": "24ffdb72",
   "metadata": {},
   "outputs": [
    {
     "ename": "SyntaxError",
     "evalue": "invalid syntax (Temp/ipykernel_4192/471821316.py, line 1)",
     "output_type": "error",
     "traceback": [
      "\u001b[1;36m  File \u001b[1;32m\"C:\\Users\\Lenovo\\AppData\\Local\\Temp/ipykernel_4192/471821316.py\"\u001b[1;36m, line \u001b[1;32m1\u001b[0m\n\u001b[1;33m    print (Hello World)     # string should be written in double/single inverted comma\u001b[0m\n\u001b[1;37m                 ^\u001b[0m\n\u001b[1;31mSyntaxError\u001b[0m\u001b[1;31m:\u001b[0m invalid syntax\n"
     ]
    }
   ],
   "source": [
    "print (Hello World)     # string should be written in double/single inverted comma"
   ]
  },
  {
   "cell_type": "code",
   "execution_count": 14,
   "id": "ab2a0881",
   "metadata": {},
   "outputs": [
    {
     "name": "stdout",
     "output_type": "stream",
     "text": [
      "My name is Akash\n"
     ]
    }
   ],
   "source": [
    "print (\"My name is Akash\")"
   ]
  },
  {
   "cell_type": "code",
   "execution_count": 15,
   "id": "bbfc22c6",
   "metadata": {},
   "outputs": [
    {
     "name": "stdout",
     "output_type": "stream",
     "text": [
      "23 AKASH WORLD\n",
      "23\n",
      "AKASH\n",
      "WORLD\n"
     ]
    }
   ],
   "source": [
    "A, B, C = 23, 'AKASH', 'WORLD'\n",
    "print(A,B,C)\n",
    "print(A)\n",
    "print(B)\n",
    "print(C)"
   ]
  },
  {
   "cell_type": "markdown",
   "id": "24369983",
   "metadata": {},
   "source": [
    "# Variable decalaration"
   ]
  },
  {
   "cell_type": "markdown",
   "id": "d55e43f3",
   "metadata": {},
   "source": [
    "# Variables are used to store the values"
   ]
  },
  {
   "cell_type": "markdown",
   "id": "09f510dc",
   "metadata": {},
   "source": [
    "# Python has no command for declaring the variables"
   ]
  },
  {
   "cell_type": "code",
   "execution_count": 16,
   "id": "ddbc7dc1",
   "metadata": {},
   "outputs": [
    {
     "data": {
      "text/plain": [
       "5"
      ]
     },
     "execution_count": 16,
     "metadata": {},
     "output_type": "execute_result"
    }
   ],
   "source": [
    "### Declaring a variable\n",
    "X=5\n",
    "X   # Recalling the variable"
   ]
  },
  {
   "cell_type": "code",
   "execution_count": 17,
   "id": "9b6ce6fe",
   "metadata": {},
   "outputs": [
    {
     "ename": "NameError",
     "evalue": "name 'Akash' is not defined",
     "output_type": "error",
     "traceback": [
      "\u001b[1;31m---------------------------------------------------------------------------\u001b[0m",
      "\u001b[1;31mNameError\u001b[0m                                 Traceback (most recent call last)",
      "\u001b[1;32m~\\AppData\\Local\\Temp/ipykernel_4192/1650844151.py\u001b[0m in \u001b[0;36m<module>\u001b[1;34m\u001b[0m\n\u001b[1;32m----> 1\u001b[1;33m \u001b[0mName\u001b[0m \u001b[1;33m=\u001b[0m \u001b[0mAkash\u001b[0m\u001b[1;33m\u001b[0m\u001b[1;33m\u001b[0m\u001b[0m\n\u001b[0m\u001b[0;32m      2\u001b[0m \u001b[0mName\u001b[0m    \u001b[1;31m# since the variable contains string\u001b[0m\u001b[1;33m\u001b[0m\u001b[1;33m\u001b[0m\u001b[0m\n",
      "\u001b[1;31mNameError\u001b[0m: name 'Akash' is not defined"
     ]
    }
   ],
   "source": [
    "Name = Akash\n",
    "Name    # since the variable contains string"
   ]
  },
  {
   "cell_type": "code",
   "execution_count": 18,
   "id": "e4e2a35b",
   "metadata": {},
   "outputs": [
    {
     "data": {
      "text/plain": [
       "'Akash'"
      ]
     },
     "execution_count": 18,
     "metadata": {},
     "output_type": "execute_result"
    }
   ],
   "source": [
    "Name_good = \"Akash\"\n",
    "Name_good"
   ]
  },
  {
   "cell_type": "code",
   "execution_count": 19,
   "id": "768bb70c",
   "metadata": {},
   "outputs": [
    {
     "data": {
      "text/plain": [
       "'Akash'"
      ]
     },
     "execution_count": 19,
     "metadata": {},
     "output_type": "execute_result"
    }
   ],
   "source": [
    "_Name = \"Akash\"\n",
    "_Name"
   ]
  },
  {
   "cell_type": "code",
   "execution_count": 20,
   "id": "06ffefa9",
   "metadata": {},
   "outputs": [
    {
     "ename": "SyntaxError",
     "evalue": "invalid syntax (Temp/ipykernel_4192/2113046955.py, line 1)",
     "output_type": "error",
     "traceback": [
      "\u001b[1;36m  File \u001b[1;32m\"C:\\Users\\Lenovo\\AppData\\Local\\Temp/ipykernel_4192/2113046955.py\"\u001b[1;36m, line \u001b[1;32m1\u001b[0m\n\u001b[1;33m    1Name = \"Akash\"\u001b[0m\n\u001b[1;37m     ^\u001b[0m\n\u001b[1;31mSyntaxError\u001b[0m\u001b[1;31m:\u001b[0m invalid syntax\n"
     ]
    }
   ],
   "source": [
    "1Name = \"Akash\"\n",
    "1Name  # variable name should not start with number"
   ]
  },
  {
   "cell_type": "code",
   "execution_count": 21,
   "id": "2f9d27ad",
   "metadata": {},
   "outputs": [
    {
     "data": {
      "text/plain": [
       "'Akash'"
      ]
     },
     "execution_count": 21,
     "metadata": {},
     "output_type": "execute_result"
    }
   ],
   "source": [
    "N1ame = \"Akash\"\n",
    "N1ame"
   ]
  },
  {
   "cell_type": "code",
   "execution_count": 22,
   "id": "a9c6f9a6",
   "metadata": {},
   "outputs": [
    {
     "ename": "SyntaxError",
     "evalue": "cannot assign to operator (Temp/ipykernel_4192/2147982825.py, line 1)",
     "output_type": "error",
     "traceback": [
      "\u001b[1;36m  File \u001b[1;32m\"C:\\Users\\Lenovo\\AppData\\Local\\Temp/ipykernel_4192/2147982825.py\"\u001b[1;36m, line \u001b[1;32m1\u001b[0m\n\u001b[1;33m    Name*good = \"Akash\"   # variable name should not contain a special character\u001b[0m\n\u001b[1;37m    ^\u001b[0m\n\u001b[1;31mSyntaxError\u001b[0m\u001b[1;31m:\u001b[0m cannot assign to operator\n"
     ]
    }
   ],
   "source": [
    "Name*good = \"Akash\"   # variable name should not contain a special character"
   ]
  },
  {
   "cell_type": "code",
   "execution_count": 23,
   "id": "cea38181",
   "metadata": {},
   "outputs": [
    {
     "ename": "SyntaxError",
     "evalue": "cannot assign to operator (Temp/ipykernel_4192/3874584948.py, line 1)",
     "output_type": "error",
     "traceback": [
      "\u001b[1;36m  File \u001b[1;32m\"C:\\Users\\Lenovo\\AppData\\Local\\Temp/ipykernel_4192/3874584948.py\"\u001b[1;36m, line \u001b[1;32m1\u001b[0m\n\u001b[1;33m    Name@good = \"Akash\"     # variable name should not contain a special character\u001b[0m\n\u001b[1;37m    ^\u001b[0m\n\u001b[1;31mSyntaxError\u001b[0m\u001b[1;31m:\u001b[0m cannot assign to operator\n"
     ]
    }
   ],
   "source": [
    "Name@good = \"Akash\"     # variable name should not contain a special character"
   ]
  },
  {
   "cell_type": "code",
   "execution_count": 24,
   "id": "14ea72d6",
   "metadata": {},
   "outputs": [
    {
     "data": {
      "text/plain": [
       "100"
      ]
     },
     "execution_count": 24,
     "metadata": {},
     "output_type": "execute_result"
    }
   ],
   "source": [
    "score = 100\n",
    "score"
   ]
  },
  {
   "cell_type": "code",
   "execution_count": 25,
   "id": "352f3920",
   "metadata": {},
   "outputs": [
    {
     "ename": "SyntaxError",
     "evalue": "Missing parentheses in call to 'print'. Did you mean print(score # missing parentheses)? (Temp/ipykernel_4192/3282792799.py, line 1)",
     "output_type": "error",
     "traceback": [
      "\u001b[1;36m  File \u001b[1;32m\"C:\\Users\\Lenovo\\AppData\\Local\\Temp/ipykernel_4192/3282792799.py\"\u001b[1;36m, line \u001b[1;32m1\u001b[0m\n\u001b[1;33m    print score # missing parentheses\u001b[0m\n\u001b[1;37m          ^\u001b[0m\n\u001b[1;31mSyntaxError\u001b[0m\u001b[1;31m:\u001b[0m Missing parentheses in call to 'print'. Did you mean print(score # missing parentheses)?\n"
     ]
    }
   ],
   "source": [
    "print score # missing parentheses"
   ]
  },
  {
   "cell_type": "code",
   "execution_count": 26,
   "id": "e499d668",
   "metadata": {},
   "outputs": [
    {
     "name": "stdout",
     "output_type": "stream",
     "text": [
      "score\n"
     ]
    }
   ],
   "source": [
    "print ('score')"
   ]
  },
  {
   "cell_type": "code",
   "execution_count": 27,
   "id": "3d59560c",
   "metadata": {},
   "outputs": [
    {
     "ename": "NameError",
     "evalue": "name 'Score' is not defined",
     "output_type": "error",
     "traceback": [
      "\u001b[1;31m---------------------------------------------------------------------------\u001b[0m",
      "\u001b[1;31mNameError\u001b[0m                                 Traceback (most recent call last)",
      "\u001b[1;32m~\\AppData\\Local\\Temp/ipykernel_4192/2179555868.py\u001b[0m in \u001b[0;36m<module>\u001b[1;34m\u001b[0m\n\u001b[1;32m----> 1\u001b[1;33m \u001b[0mScore\u001b[0m     \u001b[1;31m# variable file name is case sensitive\u001b[0m\u001b[1;33m\u001b[0m\u001b[1;33m\u001b[0m\u001b[0m\n\u001b[0m",
      "\u001b[1;31mNameError\u001b[0m: name 'Score' is not defined"
     ]
    }
   ],
   "source": [
    "Score     # variable file name is case sensitive"
   ]
  },
  {
   "cell_type": "markdown",
   "id": "f9ebcd1d",
   "metadata": {},
   "source": [
    "### Rules for declaring variable"
   ]
  },
  {
   "cell_type": "markdown",
   "id": "782e2f45",
   "metadata": {},
   "source": [
    "### A variable name must start with a letter or underscore charater"
   ]
  },
  {
   "cell_type": "markdown",
   "id": "18b0f6df",
   "metadata": {},
   "source": [
    "### A variable name cannot start with a number"
   ]
  },
  {
   "cell_type": "markdown",
   "id": "d09122ae",
   "metadata": {},
   "source": [
    "### A variable name can only contain alpha-numeric characters and underscores (A-Z, 0-9, and _)"
   ]
  },
  {
   "cell_type": "markdown",
   "id": "7dfe974f",
   "metadata": {},
   "source": [
    "# Data types"
   ]
  },
  {
   "cell_type": "code",
   "execution_count": 28,
   "id": "f86fcde1",
   "metadata": {},
   "outputs": [
    {
     "data": {
      "text/plain": [
       "str"
      ]
     },
     "execution_count": 28,
     "metadata": {},
     "output_type": "execute_result"
    }
   ],
   "source": [
    "A = \"Akash\"\n",
    "type(A)"
   ]
  },
  {
   "cell_type": "code",
   "execution_count": 29,
   "id": "9982b21b",
   "metadata": {},
   "outputs": [
    {
     "data": {
      "text/plain": [
       "float"
      ]
     },
     "execution_count": 29,
     "metadata": {},
     "output_type": "execute_result"
    }
   ],
   "source": [
    "B = 5.3\n",
    "type(B)"
   ]
  },
  {
   "cell_type": "code",
   "execution_count": 30,
   "id": "ed0046d4",
   "metadata": {},
   "outputs": [
    {
     "data": {
      "text/plain": [
       "int"
      ]
     },
     "execution_count": 30,
     "metadata": {},
     "output_type": "execute_result"
    }
   ],
   "source": [
    "C = 3\n",
    "type(C)"
   ]
  },
  {
   "cell_type": "code",
   "execution_count": 31,
   "id": "5db547d2",
   "metadata": {},
   "outputs": [
    {
     "data": {
      "text/plain": [
       "complex"
      ]
     },
     "execution_count": 31,
     "metadata": {},
     "output_type": "execute_result"
    }
   ],
   "source": [
    "D = 3+2j        # j represent imaginary number\n",
    "type(D)"
   ]
  },
  {
   "cell_type": "code",
   "execution_count": 32,
   "id": "5dc0f788",
   "metadata": {},
   "outputs": [
    {
     "data": {
      "text/plain": [
       "bool"
      ]
     },
     "execution_count": 32,
     "metadata": {},
     "output_type": "execute_result"
    }
   ],
   "source": [
    "E = True  # T should be capital\n",
    "type(E)"
   ]
  },
  {
   "cell_type": "code",
   "execution_count": 33,
   "id": "49d4c38f",
   "metadata": {},
   "outputs": [
    {
     "data": {
      "text/plain": [
       "str"
      ]
     },
     "execution_count": 33,
     "metadata": {},
     "output_type": "execute_result"
    }
   ],
   "source": [
    "F = \"True\"           # Anything written in inverted comma is considered as string\n",
    "type(F)"
   ]
  },
  {
   "cell_type": "code",
   "execution_count": null,
   "id": "9c3a3556",
   "metadata": {},
   "outputs": [],
   "source": [
    "# problem\n",
    "a=5, b=4.3 add and store in sum\n",
    "subtract and store in sub\n",
    "print both outputs"
   ]
  },
  {
   "cell_type": "code",
   "execution_count": 2,
   "id": "1e569767",
   "metadata": {},
   "outputs": [
    {
     "data": {
      "text/plain": [
       "(9.3, 0.7000000000000002)"
      ]
     },
     "execution_count": 2,
     "metadata": {},
     "output_type": "execute_result"
    }
   ],
   "source": [
    "a = 5\n",
    "b = 4.3\n",
    "sum = a+b\n",
    "sub = a-b\n",
    "sum , sub"
   ]
  },
  {
   "cell_type": "code",
   "execution_count": 3,
   "id": "4055c411",
   "metadata": {},
   "outputs": [
    {
     "data": {
      "text/plain": [
       "(float, float)"
      ]
     },
     "execution_count": 3,
     "metadata": {},
     "output_type": "execute_result"
    }
   ],
   "source": [
    "type(sum) , type(sub)"
   ]
  },
  {
   "cell_type": "code",
   "execution_count": 4,
   "id": "fb67dc24",
   "metadata": {},
   "outputs": [
    {
     "ename": "NameError",
     "evalue": "name 'hello' is not defined",
     "output_type": "error",
     "traceback": [
      "\u001b[1;31m---------------------------------------------------------------------------\u001b[0m",
      "\u001b[1;31mNameError\u001b[0m                                 Traceback (most recent call last)",
      "\u001b[1;32m~\\AppData\\Local\\Temp/ipykernel_26956/2593920992.py\u001b[0m in \u001b[0;36m<module>\u001b[1;34m\u001b[0m\n\u001b[1;32m----> 1\u001b[1;33m \u001b[0mx\u001b[0m \u001b[1;33m=\u001b[0m \u001b[0mhello\u001b[0m\u001b[1;33m\u001b[0m\u001b[1;33m\u001b[0m\u001b[0m\n\u001b[0m\u001b[0;32m      2\u001b[0m \u001b[0mtype\u001b[0m\u001b[1;33m(\u001b[0m\u001b[0mx\u001b[0m\u001b[1;33m)\u001b[0m   \u001b[1;31m# it will show error since inverted comma is not there\u001b[0m\u001b[1;33m\u001b[0m\u001b[1;33m\u001b[0m\u001b[0m\n",
      "\u001b[1;31mNameError\u001b[0m: name 'hello' is not defined"
     ]
    }
   ],
   "source": [
    "x = hello\n",
    "type(x)   # it will show error since inverted comma is not there"
   ]
  },
  {
   "cell_type": "markdown",
   "id": "0c2f52b6",
   "metadata": {},
   "source": [
    "# Data structure"
   ]
  },
  {
   "cell_type": "code",
   "execution_count": 5,
   "id": "c93849eb",
   "metadata": {},
   "outputs": [
    {
     "data": {
      "text/plain": [
       "tuple"
      ]
     },
     "execution_count": 5,
     "metadata": {},
     "output_type": "execute_result"
    }
   ],
   "source": [
    "A = (\"akash\", \"roshni\", \"vikash\", \"vandana\")\n",
    "type(A)"
   ]
  },
  {
   "cell_type": "code",
   "execution_count": 6,
   "id": "05b3997e",
   "metadata": {},
   "outputs": [
    {
     "data": {
      "text/plain": [
       "list"
      ]
     },
     "execution_count": 6,
     "metadata": {},
     "output_type": "execute_result"
    }
   ],
   "source": [
    "A = [\"akash\", \"roshni\", \"vikash\", \"vandana\"]\n",
    "type(A)"
   ]
  },
  {
   "cell_type": "code",
   "execution_count": 7,
   "id": "3b707100",
   "metadata": {},
   "outputs": [
    {
     "data": {
      "text/plain": [
       "dict"
      ]
     },
     "execution_count": 7,
     "metadata": {},
     "output_type": "execute_result"
    }
   ],
   "source": [
    "A = {\"akash\" : \"roshni\", \"vikash\" : \"vandana\"}\n",
    "type(A)"
   ]
  },
  {
   "cell_type": "code",
   "execution_count": 8,
   "id": "cf1ea2f4",
   "metadata": {},
   "outputs": [
    {
     "data": {
      "text/plain": [
       "set"
      ]
     },
     "execution_count": 8,
     "metadata": {},
     "output_type": "execute_result"
    }
   ],
   "source": [
    "A = {\"akash\", \"roshni\", \"vikash\", \"vandana\"}\n",
    "type(A)"
   ]
  },
  {
   "cell_type": "markdown",
   "id": "c0d77bf1",
   "metadata": {},
   "source": [
    "# 1) LIST"
   ]
  },
  {
   "cell_type": "markdown",
   "id": "ab417ae6",
   "metadata": {},
   "source": [
    "### 1) List is hetrogenous\n",
    "### 2) Here index start with 0\n",
    "### 3) Mutable using index\n",
    "### 4) list is written in square bracket []"
   ]
  },
  {
   "cell_type": "code",
   "execution_count": 9,
   "id": "17478fcd",
   "metadata": {},
   "outputs": [
    {
     "data": {
      "text/plain": [
       "[11, 23, 45, 'hi', (1+2j), 6.7]"
      ]
     },
     "execution_count": 9,
     "metadata": {},
     "output_type": "execute_result"
    }
   ],
   "source": [
    "akash_list = [11, 23, 45, \"hi\", 1+2j, 6.7]  # it is hetrogenous because it allows int. , float , imaginary , string etc.\n",
    "akash_list"
   ]
  },
  {
   "cell_type": "code",
   "execution_count": 10,
   "id": "4de0d1a0",
   "metadata": {},
   "outputs": [
    {
     "data": {
      "text/plain": [
       "list"
      ]
     },
     "execution_count": 10,
     "metadata": {},
     "output_type": "execute_result"
    }
   ],
   "source": [
    "type(akash_list)"
   ]
  },
  {
   "cell_type": "code",
   "execution_count": 11,
   "id": "f756f443",
   "metadata": {},
   "outputs": [
    {
     "data": {
      "text/plain": [
       "11"
      ]
     },
     "execution_count": 11,
     "metadata": {},
     "output_type": "execute_result"
    }
   ],
   "source": [
    "akash_list [0]     # calling the list value using index"
   ]
  },
  {
   "cell_type": "code",
   "execution_count": 12,
   "id": "0d3b74ef",
   "metadata": {},
   "outputs": [
    {
     "data": {
      "text/plain": [
       "6.7"
      ]
     },
     "execution_count": 12,
     "metadata": {},
     "output_type": "execute_result"
    }
   ],
   "source": [
    "akash_list [-1]  # for negative values, list index starts from backward"
   ]
  },
  {
   "cell_type": "code",
   "execution_count": 13,
   "id": "0165b47b",
   "metadata": {},
   "outputs": [
    {
     "data": {
      "text/plain": [
       "'hi'"
      ]
     },
     "execution_count": 13,
     "metadata": {},
     "output_type": "execute_result"
    }
   ],
   "source": [
    "akash_list [3]"
   ]
  },
  {
   "cell_type": "code",
   "execution_count": 14,
   "id": "5bde00ce",
   "metadata": {},
   "outputs": [
    {
     "ename": "IndexError",
     "evalue": "list index out of range",
     "output_type": "error",
     "traceback": [
      "\u001b[1;31m---------------------------------------------------------------------------\u001b[0m",
      "\u001b[1;31mIndexError\u001b[0m                                Traceback (most recent call last)",
      "\u001b[1;32m~\\AppData\\Local\\Temp/ipykernel_26956/2732452174.py\u001b[0m in \u001b[0;36m<module>\u001b[1;34m\u001b[0m\n\u001b[1;32m----> 1\u001b[1;33m \u001b[0makash_list\u001b[0m \u001b[1;33m[\u001b[0m\u001b[1;36m10\u001b[0m\u001b[1;33m]\u001b[0m   \u001b[1;31m# error list index is out of range\u001b[0m\u001b[1;33m\u001b[0m\u001b[1;33m\u001b[0m\u001b[0m\n\u001b[0m",
      "\u001b[1;31mIndexError\u001b[0m: list index out of range"
     ]
    }
   ],
   "source": [
    "akash_list [10]   # error list index is out of range"
   ]
  },
  {
   "cell_type": "code",
   "execution_count": 15,
   "id": "0c3c89f8",
   "metadata": {},
   "outputs": [],
   "source": [
    "akash_list [0]=25   # list is mutable"
   ]
  },
  {
   "cell_type": "code",
   "execution_count": 16,
   "id": "1c16af20",
   "metadata": {},
   "outputs": [
    {
     "data": {
      "text/plain": [
       "[25, 23, 45, 'hi', (1+2j), 6.7]"
      ]
     },
     "execution_count": 16,
     "metadata": {},
     "output_type": "execute_result"
    }
   ],
   "source": [
    "akash_list"
   ]
  },
  {
   "cell_type": "code",
   "execution_count": 17,
   "id": "d6f72c17",
   "metadata": {},
   "outputs": [],
   "source": [
    "akash_list [2]=88"
   ]
  },
  {
   "cell_type": "code",
   "execution_count": 18,
   "id": "6ef89a12",
   "metadata": {},
   "outputs": [
    {
     "data": {
      "text/plain": [
       "[25, 23, 88, 'hi', (1+2j), 6.7]"
      ]
     },
     "execution_count": 18,
     "metadata": {},
     "output_type": "execute_result"
    }
   ],
   "source": [
    "akash_list"
   ]
  },
  {
   "cell_type": "code",
   "execution_count": 19,
   "id": "8887da26",
   "metadata": {},
   "outputs": [
    {
     "data": {
      "text/plain": [
       "[6.7, (1+2j), 'hi', 88, 23, 25]"
      ]
     },
     "execution_count": 19,
     "metadata": {},
     "output_type": "execute_result"
    }
   ],
   "source": [
    "akash_list.reverse()   # to reverse the list\n",
    "akash_list"
   ]
  },
  {
   "cell_type": "code",
   "execution_count": 20,
   "id": "99bdc123",
   "metadata": {},
   "outputs": [
    {
     "data": {
      "text/plain": [
       "[36, 42, 89, 114, 130]"
      ]
     },
     "execution_count": 20,
     "metadata": {},
     "output_type": "execute_result"
    }
   ],
   "source": [
    "akash_list = [130, 114, 42, 36, 89]\n",
    "akash_list.sort()    # it is use to arrange the list only usable when list contains number only\n",
    "akash_list"
   ]
  },
  {
   "cell_type": "code",
   "execution_count": 21,
   "id": "0f3d0881",
   "metadata": {},
   "outputs": [
    {
     "data": {
      "text/plain": [
       "[12, 'er', 34, (3+4j), 12]"
      ]
     },
     "execution_count": 21,
     "metadata": {},
     "output_type": "execute_result"
    }
   ],
   "source": [
    "akash_list = [12, \"er\", 34, 3+4j, 12]\n",
    "akash_list"
   ]
  },
  {
   "cell_type": "code",
   "execution_count": 22,
   "id": "111dd838",
   "metadata": {},
   "outputs": [
    {
     "ename": "TypeError",
     "evalue": "'<' not supported between instances of 'str' and 'int'",
     "output_type": "error",
     "traceback": [
      "\u001b[1;31m---------------------------------------------------------------------------\u001b[0m",
      "\u001b[1;31mTypeError\u001b[0m                                 Traceback (most recent call last)",
      "\u001b[1;32m~\\AppData\\Local\\Temp/ipykernel_26956/93902644.py\u001b[0m in \u001b[0;36m<module>\u001b[1;34m\u001b[0m\n\u001b[1;32m----> 1\u001b[1;33m \u001b[0makash_list\u001b[0m\u001b[1;33m.\u001b[0m\u001b[0msort\u001b[0m\u001b[1;33m(\u001b[0m\u001b[1;33m)\u001b[0m  \u001b[1;31m# it contains string function\u001b[0m\u001b[1;33m\u001b[0m\u001b[1;33m\u001b[0m\u001b[0m\n\u001b[0m",
      "\u001b[1;31mTypeError\u001b[0m: '<' not supported between instances of 'str' and 'int'"
     ]
    }
   ],
   "source": [
    "akash_list.sort()  # it contains string function"
   ]
  },
  {
   "cell_type": "code",
   "execution_count": 23,
   "id": "efe11a29",
   "metadata": {},
   "outputs": [
    {
     "data": {
      "text/plain": [
       "['good', 'bad', 'normal', 'high', 'low']"
      ]
     },
     "execution_count": 23,
     "metadata": {},
     "output_type": "execute_result"
    }
   ],
   "source": [
    "akash = [\"good\", \"bad\", \"normal\", \"high\", \"low\"]\n",
    "akash"
   ]
  },
  {
   "cell_type": "code",
   "execution_count": 24,
   "id": "33ada33d",
   "metadata": {},
   "outputs": [
    {
     "name": "stdout",
     "output_type": "stream",
     "text": [
      "True\n"
     ]
    }
   ],
   "source": [
    "print (\"good\" in akash)    # To know wheather good is there in the list or not"
   ]
  },
  {
   "cell_type": "code",
   "execution_count": 25,
   "id": "f07ee266",
   "metadata": {},
   "outputs": [
    {
     "name": "stdout",
     "output_type": "stream",
     "text": [
      "False\n"
     ]
    }
   ],
   "source": [
    "print (\"lucky\" in akash)"
   ]
  }
 ],
 "metadata": {
  "kernelspec": {
   "display_name": "Python 3 (ipykernel)",
   "language": "python",
   "name": "python3"
  },
  "language_info": {
   "codemirror_mode": {
    "name": "ipython",
    "version": 3
   },
   "file_extension": ".py",
   "mimetype": "text/x-python",
   "name": "python",
   "nbconvert_exporter": "python",
   "pygments_lexer": "ipython3",
   "version": "3.9.7"
  }
 },
 "nbformat": 4,
 "nbformat_minor": 5
}
