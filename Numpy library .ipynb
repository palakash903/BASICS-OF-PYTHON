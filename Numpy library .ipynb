{
 "cells": [
  {
   "cell_type": "markdown",
   "id": "cd16dd7c",
   "metadata": {},
   "source": [
    "# Numpy: Package for Multidimentional array\n",
    "## Vector(1-D)\n",
    "## 3rd/2nd/1st - Oeder Matrix"
   ]
  },
  {
   "cell_type": "code",
   "execution_count": 1,
   "id": "83a0390f",
   "metadata": {},
   "outputs": [],
   "source": [
    "import numpy as np   #Importing numerical python as np"
   ]
  },
  {
   "cell_type": "code",
   "execution_count": 2,
   "id": "85362da6",
   "metadata": {},
   "outputs": [
    {
     "data": {
      "text/plain": [
       "array([3, 1, 6])"
      ]
     },
     "execution_count": 2,
     "metadata": {},
     "output_type": "execute_result"
    }
   ],
   "source": [
    "Akash_list=[3,1,6]                     #Converting from list to array\n",
    "np.array(Akash_list)"
   ]
  },
  {
   "cell_type": "code",
   "execution_count": 3,
   "id": "38958d2a",
   "metadata": {},
   "outputs": [
    {
     "data": {
      "text/plain": [
       "array([5, 6, 1])"
      ]
     },
     "execution_count": 3,
     "metadata": {},
     "output_type": "execute_result"
    }
   ],
   "source": [
    "Akash_array=np.array([5,6,1])    # Direct way of getting array\n",
    "Akash_array"
   ]
  },
  {
   "cell_type": "code",
   "execution_count": 4,
   "id": "80421968",
   "metadata": {},
   "outputs": [
    {
     "data": {
      "text/plain": [
       "array([[8, 5, 2],\n",
       "       [1, 7, 3],\n",
       "       [9, 3, 5]])"
      ]
     },
     "execution_count": 4,
     "metadata": {},
     "output_type": "execute_result"
    }
   ],
   "source": [
    "Akash_lists=[[8,5,2],[1,7,3],[9,3,5]]\n",
    "np.array(Akash_lists)"
   ]
  },
  {
   "cell_type": "code",
   "execution_count": 5,
   "id": "ec157af3",
   "metadata": {},
   "outputs": [
    {
     "data": {
      "text/plain": [
       "array([[8, 5, 2],\n",
       "       [1, 7, 3],\n",
       "       [9, 3, 5]])"
      ]
     },
     "execution_count": 5,
     "metadata": {},
     "output_type": "execute_result"
    }
   ],
   "source": [
    "Akash_lists1=([8,5,2],[1,7,3],[9,3,5])\n",
    "np.array(Akash_lists)"
   ]
  },
  {
   "cell_type": "code",
   "execution_count": 6,
   "id": "5b7d33af",
   "metadata": {},
   "outputs": [
    {
     "data": {
      "text/plain": [
       "array([[8, 5, 2],\n",
       "       [1, 7, 3],\n",
       "       [9, 3, 5]])"
      ]
     },
     "execution_count": 6,
     "metadata": {},
     "output_type": "execute_result"
    }
   ],
   "source": [
    "Akash_lists2=[8,5,2],[1,7,3],[9,3,5]\n",
    "np.array(Akash_lists)"
   ]
  },
  {
   "cell_type": "code",
   "execution_count": 7,
   "id": "241a67e4",
   "metadata": {},
   "outputs": [
    {
     "data": {
      "text/plain": [
       "array([[1, 2, 3],\n",
       "       [4, 5, 6]])"
      ]
     },
     "execution_count": 7,
     "metadata": {},
     "output_type": "execute_result"
    }
   ],
   "source": [
    "Akash_array1=np.array([[1,2,3],[4,5,6]])\n",
    "Akash_array1"
   ]
  },
  {
   "cell_type": "code",
   "execution_count": 8,
   "id": "78be7144",
   "metadata": {},
   "outputs": [
    {
     "data": {
      "text/plain": [
       "array([[8, 5, 2],\n",
       "       [1, 7, 3],\n",
       "       [9, 3, 5]])"
      ]
     },
     "execution_count": 8,
     "metadata": {},
     "output_type": "execute_result"
    }
   ],
   "source": [
    "Akash_lists3=np.array([[8,5,2],[1,7,3],[9,3,5]])   #Direct way of getting array\n",
    "Akash_lists3"
   ]
  },
  {
   "cell_type": "code",
   "execution_count": 9,
   "id": "11dfe422",
   "metadata": {},
   "outputs": [
    {
     "data": {
      "text/plain": [
       "array([ 4,  5,  6,  7,  8,  9, 10, 11, 12, 13, 14, 15, 16, 17, 18, 19, 20,\n",
       "       21, 22, 23, 24, 25, 26])"
      ]
     },
     "execution_count": 9,
     "metadata": {},
     "output_type": "execute_result"
    }
   ],
   "source": [
    "np.arange(4,27)    #this fuction gives output starting from 1st number i.e 4 with step size as 1(default if not mention) and\n",
    "                  # ends just before 2nd number (27 will not be there in the output)"
   ]
  },
  {
   "cell_type": "code",
   "execution_count": 10,
   "id": "5a7bd8f0",
   "metadata": {},
   "outputs": [
    {
     "data": {
      "text/plain": [
       "array([   7,   60,  113,  166,  219,  272,  325,  378,  431,  484,  537,\n",
       "        590,  643,  696,  749,  802,  855,  908,  961, 1014, 1067, 1120,\n",
       "       1173, 1226])"
      ]
     },
     "execution_count": 10,
     "metadata": {},
     "output_type": "execute_result"
    }
   ],
   "source": [
    "np.arange(7,1245,53)     #step size is 53"
   ]
  },
  {
   "cell_type": "code",
   "execution_count": 11,
   "id": "7c47713e",
   "metadata": {},
   "outputs": [
    {
     "data": {
      "text/plain": [
       "array([0., 0., 0., 0., 0., 0., 0., 0., 0.])"
      ]
     },
     "execution_count": 11,
     "metadata": {},
     "output_type": "execute_result"
    }
   ],
   "source": [
    "np.zeros(9)          # To get zeros (float is default setting)"
   ]
  },
  {
   "cell_type": "code",
   "execution_count": 12,
   "id": "b54ffed8",
   "metadata": {},
   "outputs": [
    {
     "data": {
      "text/plain": [
       "array([0, 0, 0, 0, 0, 0, 0, 0, 0])"
      ]
     },
     "execution_count": 12,
     "metadata": {},
     "output_type": "execute_result"
    }
   ],
   "source": [
    "np.zeros(9,dtype=int)    #To get integer"
   ]
  },
  {
   "cell_type": "code",
   "execution_count": 13,
   "id": "8cc29ac2",
   "metadata": {},
   "outputs": [
    {
     "data": {
      "text/plain": [
       "array([1., 1., 1.])"
      ]
     },
     "execution_count": 13,
     "metadata": {},
     "output_type": "execute_result"
    }
   ],
   "source": [
    "np.ones(3)       # To get ones "
   ]
  },
  {
   "cell_type": "code",
   "execution_count": 14,
   "id": "7b9b511a",
   "metadata": {},
   "outputs": [
    {
     "data": {
      "text/plain": [
       "array([1, 1, 1])"
      ]
     },
     "execution_count": 14,
     "metadata": {},
     "output_type": "execute_result"
    }
   ],
   "source": [
    "np.ones(3,dtype=int)"
   ]
  },
  {
   "cell_type": "code",
   "execution_count": 15,
   "id": "845f4624",
   "metadata": {},
   "outputs": [
    {
     "data": {
      "text/plain": [
       "array([[1, 1, 1, 1, 1, 1, 1, 1],\n",
       "       [1, 1, 1, 1, 1, 1, 1, 1],\n",
       "       [1, 1, 1, 1, 1, 1, 1, 1],\n",
       "       [1, 1, 1, 1, 1, 1, 1, 1]])"
      ]
     },
     "execution_count": 15,
     "metadata": {},
     "output_type": "execute_result"
    }
   ],
   "source": [
    "np.ones((4,8),dtype=int)  # 4 row and 8 column"
   ]
  },
  {
   "cell_type": "code",
   "execution_count": 16,
   "id": "1355bfaa",
   "metadata": {},
   "outputs": [
    {
     "data": {
      "text/plain": [
       "array([4., 5., 6., 7., 8., 9.])"
      ]
     },
     "execution_count": 16,
     "metadata": {},
     "output_type": "execute_result"
    }
   ],
   "source": [
    "np.linspace(4,9,6)      # starts with 4 and ends with 9 with 6 equally spaced output"
   ]
  },
  {
   "cell_type": "code",
   "execution_count": 17,
   "id": "52ec931d",
   "metadata": {},
   "outputs": [
    {
     "data": {
      "text/plain": [
       "array([  1.    ,  14.6875,  28.375 ,  42.0625,  55.75  ,  69.4375,\n",
       "        83.125 ,  96.8125, 110.5   , 124.1875, 137.875 , 151.5625,\n",
       "       165.25  , 178.9375, 192.625 , 206.3125, 220.    ])"
      ]
     },
     "execution_count": 17,
     "metadata": {},
     "output_type": "execute_result"
    }
   ],
   "source": [
    "np.linspace(1,220,17)"
   ]
  },
  {
   "cell_type": "code",
   "execution_count": 18,
   "id": "e139e319",
   "metadata": {},
   "outputs": [
    {
     "data": {
      "text/plain": [
       "array([ 1. , 16.5, 32. ])"
      ]
     },
     "execution_count": 18,
     "metadata": {},
     "output_type": "execute_result"
    }
   ],
   "source": [
    "np.linspace(1,32,3)"
   ]
  },
  {
   "cell_type": "code",
   "execution_count": 19,
   "id": "d28bc2ce",
   "metadata": {},
   "outputs": [
    {
     "data": {
      "text/plain": [
       "array([[1, 0, 0],\n",
       "       [0, 1, 0],\n",
       "       [0, 0, 1]])"
      ]
     },
     "execution_count": 19,
     "metadata": {},
     "output_type": "execute_result"
    }
   ],
   "source": [
    "np.eye(3,dtype=int)  ## indentity matrix"
   ]
  },
  {
   "cell_type": "code",
   "execution_count": 20,
   "id": "a2b578bd",
   "metadata": {},
   "outputs": [
    {
     "data": {
      "text/plain": [
       "array([[0.66805758, 0.73979   ],\n",
       "       [0.67732074, 0.69464307],\n",
       "       [0.93236781, 0.75078474]])"
      ]
     },
     "execution_count": 20,
     "metadata": {},
     "output_type": "execute_result"
    }
   ],
   "source": [
    "np.random.rand(3,2)    # 2*4 matrix with random values between [0,1) Uniform distribution. "
   ]
  },
  {
   "cell_type": "code",
   "execution_count": 21,
   "id": "63141615",
   "metadata": {},
   "outputs": [
    {
     "data": {
      "text/plain": [
       "array([[-0.52094403,  0.15296237, -1.40878941, -0.23046005, -0.44761899,\n",
       "        -0.95548282, -0.55085711],\n",
       "       [ 0.12160194,  1.42628841, -1.09220991,  0.84408981, -1.08798335,\n",
       "        -0.69260716, -1.53611214],\n",
       "       [ 0.48170349,  1.39992458, -0.96054934, -0.77367936, -1.14347354,\n",
       "        -0.01413848, -1.21744384],\n",
       "       [ 0.16898677, -0.37267541, -0.17985749,  0.82734049, -0.9598437 ,\n",
       "        -0.8103799 , -0.43722054]])"
      ]
     },
     "execution_count": 21,
     "metadata": {},
     "output_type": "execute_result"
    }
   ],
   "source": [
    "np.random.randn(4,7)      # 4*7 matrix with random values normal distribution"
   ]
  },
  {
   "cell_type": "code",
   "execution_count": 22,
   "id": "e736d960",
   "metadata": {},
   "outputs": [
    {
     "data": {
      "text/plain": [
       "array([ 0, 14,  5, 19,  5, 12, 14, 11, 19,  0, 14, 14, 13, 16,  6,  4,  3,\n",
       "       16,  0,  8, 11,  8,  7, 11,  6, 10, 12, 19,  2, 10,  3, 16,  3, 15,\n",
       "       19, 16, 12,  5,  5,  5, 11,  3,  9, 17, 19, 16, 15, 18, 10,  0])"
      ]
     },
     "execution_count": 22,
     "metadata": {},
     "output_type": "execute_result"
    }
   ],
   "source": [
    "np.random.randint(0,20,50)   # 15 Random output from 0 to 19. And repetition is allowed."
   ]
  },
  {
   "cell_type": "code",
   "execution_count": 23,
   "id": "28c52c9b",
   "metadata": {},
   "outputs": [
    {
     "data": {
      "text/plain": [
       "array([67, 47, 75, 52, 45, 43, 30, 37, 45, 40, 69, 41, 75, 63, 26])"
      ]
     },
     "execution_count": 23,
     "metadata": {},
     "output_type": "execute_result"
    }
   ],
   "source": [
    "np.random.randint(23,76,15)"
   ]
  },
  {
   "cell_type": "code",
   "execution_count": 24,
   "id": "e8b5bfe6",
   "metadata": {},
   "outputs": [
    {
     "data": {
      "text/plain": [
       "array([45, 11, 34, 32, 18, 29, 22, 40, 37, 32, 18, 43, 19, 26, 32, 41, 35,\n",
       "       32, 14, 13, 10, 31, 31, 37, 27, 15, 35, 20, 41, 38, 33, 24, 29, 18,\n",
       "       35, 45, 28, 21, 28, 24, 32, 18, 45, 30, 35, 40, 23, 36, 30, 32, 37,\n",
       "       38, 36, 21, 13, 21, 11, 26, 31, 15, 18, 19, 23, 28, 39, 17, 43, 21,\n",
       "       31, 36, 44, 35, 18, 10, 18, 35, 42, 28, 45, 40, 19, 17, 26, 23, 37,\n",
       "       20, 17, 30, 21, 44, 29, 33, 42, 42, 12, 36, 16, 43, 33, 34])"
      ]
     },
     "execution_count": 24,
     "metadata": {},
     "output_type": "execute_result"
    }
   ],
   "source": [
    "np.random.randint(10,46,100)"
   ]
  },
  {
   "cell_type": "code",
   "execution_count": 25,
   "id": "4faadeca",
   "metadata": {},
   "outputs": [
    {
     "data": {
      "text/plain": [
       "array([21, 22, 23, 24, 25, 26, 27, 28, 29, 30, 31, 32, 33, 34, 35, 36, 37,\n",
       "       38, 39, 40, 41, 42, 43, 44, 45, 46, 47, 48, 49, 50, 51, 52, 53])"
      ]
     },
     "execution_count": 25,
     "metadata": {},
     "output_type": "execute_result"
    }
   ],
   "source": [
    "Akash_array3=np.arange(21,54)\n",
    "Akash_array3"
   ]
  },
  {
   "cell_type": "code",
   "execution_count": 26,
   "id": "877399cd",
   "metadata": {},
   "outputs": [
    {
     "data": {
      "text/plain": [
       "array([14, 10,  5,  4, 13, 12,  6, 13, 14,  4, 11,  3])"
      ]
     },
     "execution_count": 26,
     "metadata": {},
     "output_type": "execute_result"
    }
   ],
   "source": [
    "Akash_rand_array=np.random.randint(2,19,12)\n",
    "Akash_rand_array"
   ]
  },
  {
   "cell_type": "code",
   "execution_count": 27,
   "id": "b0ca4e22",
   "metadata": {},
   "outputs": [
    {
     "data": {
      "text/plain": [
       "21"
      ]
     },
     "execution_count": 27,
     "metadata": {},
     "output_type": "execute_result"
    }
   ],
   "source": [
    "Akash_array3.min()    # MINIMUM VALUE"
   ]
  },
  {
   "cell_type": "code",
   "execution_count": 28,
   "id": "60c5f075",
   "metadata": {},
   "outputs": [
    {
     "data": {
      "text/plain": [
       "0"
      ]
     },
     "execution_count": 28,
     "metadata": {},
     "output_type": "execute_result"
    }
   ],
   "source": [
    "Akash_array3.argmin()   # Index of minimum value"
   ]
  },
  {
   "cell_type": "code",
   "execution_count": 29,
   "id": "71ee29b1",
   "metadata": {},
   "outputs": [
    {
     "data": {
      "text/plain": [
       "53"
      ]
     },
     "execution_count": 29,
     "metadata": {},
     "output_type": "execute_result"
    }
   ],
   "source": [
    "Akash_array3.max()  # Maximum value"
   ]
  },
  {
   "cell_type": "code",
   "execution_count": 30,
   "id": "5fcd0f48",
   "metadata": {},
   "outputs": [
    {
     "data": {
      "text/plain": [
       "32"
      ]
     },
     "execution_count": 30,
     "metadata": {},
     "output_type": "execute_result"
    }
   ],
   "source": [
    "Akash_array3.argmax()   # Index of maximum value"
   ]
  },
  {
   "cell_type": "code",
   "execution_count": 31,
   "id": "2102e13d",
   "metadata": {},
   "outputs": [
    {
     "data": {
      "text/plain": [
       "3"
      ]
     },
     "execution_count": 31,
     "metadata": {},
     "output_type": "execute_result"
    }
   ],
   "source": [
    "Akash_rand_array.min()"
   ]
  },
  {
   "cell_type": "code",
   "execution_count": 32,
   "id": "711a7d67",
   "metadata": {},
   "outputs": [
    {
     "data": {
      "text/plain": [
       "11"
      ]
     },
     "execution_count": 32,
     "metadata": {},
     "output_type": "execute_result"
    }
   ],
   "source": [
    "Akash_rand_array.argmin()"
   ]
  },
  {
   "cell_type": "code",
   "execution_count": 33,
   "id": "ccce9e1b",
   "metadata": {},
   "outputs": [
    {
     "data": {
      "text/plain": [
       "14"
      ]
     },
     "execution_count": 33,
     "metadata": {},
     "output_type": "execute_result"
    }
   ],
   "source": [
    "Akash_rand_array.max()"
   ]
  },
  {
   "cell_type": "code",
   "execution_count": 34,
   "id": "881804aa",
   "metadata": {},
   "outputs": [
    {
     "data": {
      "text/plain": [
       "0"
      ]
     },
     "execution_count": 34,
     "metadata": {},
     "output_type": "execute_result"
    }
   ],
   "source": [
    "Akash_rand_array.argmax()"
   ]
  },
  {
   "cell_type": "code",
   "execution_count": 35,
   "id": "2a2f042b",
   "metadata": {},
   "outputs": [
    {
     "data": {
      "text/plain": [
       "dtype('int32')"
      ]
     },
     "execution_count": 35,
     "metadata": {},
     "output_type": "execute_result"
    }
   ],
   "source": [
    "Akash_array.dtype"
   ]
  },
  {
   "cell_type": "code",
   "execution_count": 36,
   "id": "b4701089",
   "metadata": {},
   "outputs": [
    {
     "data": {
      "text/plain": [
       "array([[1., 0., 0.],\n",
       "       [0., 1., 0.],\n",
       "       [0., 0., 1.]])"
      ]
     },
     "execution_count": 36,
     "metadata": {},
     "output_type": "execute_result"
    }
   ],
   "source": [
    "Q=np.eye(3)\n",
    "Q"
   ]
  },
  {
   "cell_type": "code",
   "execution_count": 37,
   "id": "1d2c6b4e",
   "metadata": {},
   "outputs": [
    {
     "data": {
      "text/plain": [
       "array([[0.97100136, 0.4424818 , 0.20071579, 0.25867901],\n",
       "       [0.34009531, 0.42374701, 0.52142952, 0.86638983],\n",
       "       [0.29058692, 0.9903867 , 0.70034103, 0.86976826]])"
      ]
     },
     "execution_count": 37,
     "metadata": {},
     "output_type": "execute_result"
    }
   ],
   "source": [
    "Q=np.random.rand(3,4)\n",
    "Q"
   ]
  },
  {
   "cell_type": "code",
   "execution_count": 38,
   "id": "68e82d60",
   "metadata": {
    "scrolled": true
   },
   "outputs": [
    {
     "data": {
      "text/plain": [
       "array([[0.97100136, 0.34009531, 0.29058692],\n",
       "       [0.4424818 , 0.42374701, 0.9903867 ],\n",
       "       [0.20071579, 0.52142952, 0.70034103],\n",
       "       [0.25867901, 0.86638983, 0.86976826]])"
      ]
     },
     "execution_count": 38,
     "metadata": {},
     "output_type": "execute_result"
    }
   ],
   "source": [
    "Q.T  # Transpose of matrix Q"
   ]
  },
  {
   "cell_type": "code",
   "execution_count": 39,
   "id": "b8330df3",
   "metadata": {},
   "outputs": [
    {
     "data": {
      "text/plain": [
       "array([14, 15, 16, 17, 18, 19, 20, 21, 22, 23, 24, 25, 26, 27, 28, 29])"
      ]
     },
     "execution_count": 39,
     "metadata": {},
     "output_type": "execute_result"
    }
   ],
   "source": [
    "Akash_array4=np.arange(14,30)\n",
    "Akash_array4"
   ]
  },
  {
   "cell_type": "code",
   "execution_count": 40,
   "id": "752fdc55",
   "metadata": {},
   "outputs": [
    {
     "data": {
      "text/plain": [
       "array([[14, 15, 16, 17],\n",
       "       [18, 19, 20, 21],\n",
       "       [22, 23, 24, 25],\n",
       "       [26, 27, 28, 29]])"
      ]
     },
     "execution_count": 40,
     "metadata": {},
     "output_type": "execute_result"
    }
   ],
   "source": [
    "Akash_array4=Akash_array4.reshape(4,4)\n",
    "Akash_array4"
   ]
  },
  {
   "cell_type": "code",
   "execution_count": 41,
   "id": "6a444c1f",
   "metadata": {},
   "outputs": [
    {
     "ename": "NameError",
     "evalue": "name 'sample_array' is not defined",
     "output_type": "error",
     "traceback": [
      "\u001b[1;31m---------------------------------------------------------------------------\u001b[0m",
      "\u001b[1;31mNameError\u001b[0m                                 Traceback (most recent call last)",
      "\u001b[1;32m~\\AppData\\Local\\Temp/ipykernel_15952/886040491.py\u001b[0m in \u001b[0;36m<module>\u001b[1;34m\u001b[0m\n\u001b[1;32m----> 1\u001b[1;33m \u001b[0mAkash_array4\u001b[0m\u001b[1;33m=\u001b[0m\u001b[0msample_array\u001b[0m\u001b[1;33m.\u001b[0m\u001b[0mreshape\u001b[0m\u001b[1;33m(\u001b[0m\u001b[1;36m3\u001b[0m\u001b[1;33m,\u001b[0m\u001b[1;36m4\u001b[0m\u001b[1;33m)\u001b[0m  \u001b[1;31m# There are 8 values only so the multiplication of order of the matrix should be 8 only.\u001b[0m\u001b[1;33m\u001b[0m\u001b[1;33m\u001b[0m\u001b[0m\n\u001b[0m\u001b[0;32m      2\u001b[0m \u001b[0mAkash_array4\u001b[0m\u001b[1;33m\u001b[0m\u001b[1;33m\u001b[0m\u001b[0m\n",
      "\u001b[1;31mNameError\u001b[0m: name 'sample_array' is not defined"
     ]
    }
   ],
   "source": [
    "Akash_array4=sample_array.reshape(3,4)  # There are 8 values only so the multiplication of order of the matrix should be 8 only.\n",
    "Akash_array4"
   ]
  },
  {
   "cell_type": "code",
   "execution_count": 42,
   "id": "56d22cf2",
   "metadata": {},
   "outputs": [
    {
     "data": {
      "text/plain": [
       "array([[ 14,  15,  16,  17],\n",
       "       [ 18,  19,  20,  21],\n",
       "       [ 22,  23,  24,  25],\n",
       "       [100, 100, 100, 100]])"
      ]
     },
     "execution_count": 42,
     "metadata": {},
     "output_type": "execute_result"
    }
   ],
   "source": [
    "Akash_array4[3]=100    # Mutation property 4rd row (index 0 is 1st raw) will get change. \n",
    "Akash_array4"
   ]
  },
  {
   "cell_type": "code",
   "execution_count": 43,
   "id": "488cbba8",
   "metadata": {},
   "outputs": [
    {
     "data": {
      "text/plain": [
       "array([13, 14, 15, 16, 17, 18, 19, 20, 21, 22, 23, 24, 25, 26, 27, 28, 29,\n",
       "       30, 31, 32, 33, 34, 35, 36, 37, 38, 39, 40, 41, 42, 43, 44, 45, 46,\n",
       "       47, 48])"
      ]
     },
     "execution_count": 43,
     "metadata": {},
     "output_type": "execute_result"
    }
   ],
   "source": [
    "Akash_array5=np.arange(13,49)\n",
    "Akash_array5"
   ]
  },
  {
   "cell_type": "code",
   "execution_count": 44,
   "id": "f7fd3f5e",
   "metadata": {},
   "outputs": [
    {
     "data": {
      "text/plain": [
       "array([17, 18, 19, 20, 21, 22, 23, 24, 25, 26, 27, 28])"
      ]
     },
     "execution_count": 44,
     "metadata": {},
     "output_type": "execute_result"
    }
   ],
   "source": [
    "Akash_array5[4:16]    #  start from index 4 ends at index 15 (consider 0 index)  "
   ]
  },
  {
   "cell_type": "code",
   "execution_count": 45,
   "id": "d10a4bd1",
   "metadata": {},
   "outputs": [
    {
     "data": {
      "text/plain": [
       "array([15, 16, 17, 18, 19, 20, 21])"
      ]
     },
     "execution_count": 45,
     "metadata": {},
     "output_type": "execute_result"
    }
   ],
   "source": [
    "Akash_array6=Akash_array5[2:9]     # index 2 to index 8\n",
    "Akash_array6"
   ]
  },
  {
   "cell_type": "code",
   "execution_count": 46,
   "id": "916b3740",
   "metadata": {},
   "outputs": [
    {
     "data": {
      "text/plain": [
       "array([123, 123, 123, 123, 123, 123, 123, 123, 123, 123, 123, 123, 123,\n",
       "       123, 123, 123, 123, 123, 123, 123, 123, 123, 123, 123, 123, 123,\n",
       "       123, 123, 123, 123, 123, 123, 123, 123, 123, 123])"
      ]
     },
     "execution_count": 46,
     "metadata": {},
     "output_type": "execute_result"
    }
   ],
   "source": [
    "Akash_array5[:]=123   # : means all element will become 123\n",
    "Akash_array5"
   ]
  },
  {
   "cell_type": "markdown",
   "id": "d876ab89",
   "metadata": {},
   "source": [
    "### two dimensional array"
   ]
  },
  {
   "cell_type": "code",
   "execution_count": 47,
   "id": "4e7ac7fd",
   "metadata": {},
   "outputs": [],
   "source": [
    "import numpy as np"
   ]
  },
  {
   "cell_type": "code",
   "execution_count": 48,
   "id": "7995f27c",
   "metadata": {},
   "outputs": [
    {
     "data": {
      "text/plain": [
       "array([[12, 13,  4, 21],\n",
       "       [32,  8,  5, 32],\n",
       "       [ 5,  3,  6,  5]])"
      ]
     },
     "execution_count": 48,
     "metadata": {},
     "output_type": "execute_result"
    }
   ],
   "source": [
    "Akash_matrix=np.array([[12,13,4,21],[32,8,5,32],[5,3,6,5]])\n",
    "Akash_matrix"
   ]
  },
  {
   "cell_type": "code",
   "execution_count": 49,
   "id": "01f87414",
   "metadata": {},
   "outputs": [
    {
     "data": {
      "text/plain": [
       "3"
      ]
     },
     "execution_count": 49,
     "metadata": {},
     "output_type": "execute_result"
    }
   ],
   "source": [
    "Akash_matrix[2][1]    # calling 2nd row 1st column  (Remember row and column starts with zero)"
   ]
  },
  {
   "cell_type": "code",
   "execution_count": 50,
   "id": "25f18d32",
   "metadata": {},
   "outputs": [
    {
     "data": {
      "text/plain": [
       "13"
      ]
     },
     "execution_count": 50,
     "metadata": {},
     "output_type": "execute_result"
    }
   ],
   "source": [
    "Akash_matrix[0][1]"
   ]
  },
  {
   "cell_type": "code",
   "execution_count": 51,
   "id": "b000e534",
   "metadata": {},
   "outputs": [
    {
     "data": {
      "text/plain": [
       "array([13,  8,  3])"
      ]
     },
     "execution_count": 51,
     "metadata": {},
     "output_type": "execute_result"
    }
   ],
   "source": [
    "Akash_matrix[:,1]     # ':' means all rows "
   ]
  },
  {
   "cell_type": "code",
   "execution_count": 52,
   "id": "2b50ab6b",
   "metadata": {},
   "outputs": [
    {
     "data": {
      "text/plain": [
       "5"
      ]
     },
     "execution_count": 52,
     "metadata": {},
     "output_type": "execute_result"
    }
   ],
   "source": [
    "Akash_matrix[2,0]"
   ]
  },
  {
   "cell_type": "code",
   "execution_count": 53,
   "id": "43e210ba",
   "metadata": {},
   "outputs": [
    {
     "data": {
      "text/plain": [
       "array([[12, 13,  4],\n",
       "       [32,  8,  5]])"
      ]
     },
     "execution_count": 53,
     "metadata": {},
     "output_type": "execute_result"
    }
   ],
   "source": [
    "Akash_matrix[0:2,0:3]   # 0:2 means row = 0,1 and 0:3 means column = 0,1,2  (comman between row and column)"
   ]
  },
  {
   "cell_type": "code",
   "execution_count": 54,
   "id": "49de9112",
   "metadata": {},
   "outputs": [
    {
     "data": {
      "text/plain": [
       "array([[32,  8,  5, 32],\n",
       "       [ 5,  3,  6,  5]])"
      ]
     },
     "execution_count": 54,
     "metadata": {},
     "output_type": "execute_result"
    }
   ],
   "source": [
    "Akash_matrix[1:,0:]    # 1: means from 1st row onwards \n",
    "                       # 0: means from 2nd column onwards"
   ]
  },
  {
   "cell_type": "code",
   "execution_count": 55,
   "id": "b5bcd030",
   "metadata": {},
   "outputs": [
    {
     "data": {
      "text/plain": [
       "array([32,  8,  5, 32])"
      ]
     },
     "execution_count": 55,
     "metadata": {},
     "output_type": "execute_result"
    }
   ],
   "source": [
    "Akash_matrix[1]   # 1st row"
   ]
  },
  {
   "cell_type": "code",
   "execution_count": 56,
   "id": "8a3e0dac",
   "metadata": {},
   "outputs": [
    {
     "data": {
      "text/plain": [
       "array([ 5,  6,  7,  8,  9, 10, 11, 12, 13, 14, 15, 16, 17, 18, 19, 20, 21,\n",
       "       22, 23, 24, 25, 26, 27, 28, 29, 30, 31, 32, 33, 34, 35, 36, 37, 38,\n",
       "       39, 40, 41])"
      ]
     },
     "execution_count": 56,
     "metadata": {},
     "output_type": "execute_result"
    }
   ],
   "source": [
    "Akash_array7=np.arange(5,42)       \n",
    "Akash_array7"
   ]
  },
  {
   "cell_type": "code",
   "execution_count": 57,
   "id": "f6e8ad90",
   "metadata": {},
   "outputs": [
    {
     "data": {
      "text/plain": [
       "array([10, 12, 14, 16, 18, 20, 22, 24, 26, 28, 30, 32, 34, 36, 38, 40, 42,\n",
       "       44, 46, 48, 50, 52, 54, 56, 58, 60, 62, 64, 66, 68, 70, 72, 74, 76,\n",
       "       78, 80, 82])"
      ]
     },
     "execution_count": 57,
     "metadata": {},
     "output_type": "execute_result"
    }
   ],
   "source": [
    "Akash_array7+Akash_array7  # Summation"
   ]
  },
  {
   "cell_type": "code",
   "execution_count": 58,
   "id": "4a66d9f1",
   "metadata": {},
   "outputs": [
    {
     "data": {
      "text/plain": [
       "array([1.48413159e+02, 4.03428793e+02, 1.09663316e+03, 2.98095799e+03,\n",
       "       8.10308393e+03, 2.20264658e+04, 5.98741417e+04, 1.62754791e+05,\n",
       "       4.42413392e+05, 1.20260428e+06, 3.26901737e+06, 8.88611052e+06,\n",
       "       2.41549528e+07, 6.56599691e+07, 1.78482301e+08, 4.85165195e+08,\n",
       "       1.31881573e+09, 3.58491285e+09, 9.74480345e+09, 2.64891221e+10,\n",
       "       7.20048993e+10, 1.95729609e+11, 5.32048241e+11, 1.44625706e+12,\n",
       "       3.93133430e+12, 1.06864746e+13, 2.90488497e+13, 7.89629602e+13,\n",
       "       2.14643580e+14, 5.83461743e+14, 1.58601345e+15, 4.31123155e+15,\n",
       "       1.17191424e+16, 3.18559318e+16, 8.65934004e+16, 2.35385267e+17,\n",
       "       6.39843494e+17])"
      ]
     },
     "execution_count": 58,
     "metadata": {},
     "output_type": "execute_result"
    }
   ],
   "source": [
    "np.exp(Akash_array7)   # exponential of all element which is stored in Akash_array7 "
   ]
  },
  {
   "cell_type": "code",
   "execution_count": 59,
   "id": "3a8e7c6c",
   "metadata": {},
   "outputs": [
    {
     "data": {
      "text/plain": [
       "array([2.23606798, 2.44948974, 2.64575131, 2.82842712, 3.        ,\n",
       "       3.16227766, 3.31662479, 3.46410162, 3.60555128, 3.74165739,\n",
       "       3.87298335, 4.        , 4.12310563, 4.24264069, 4.35889894,\n",
       "       4.47213595, 4.58257569, 4.69041576, 4.79583152, 4.89897949,\n",
       "       5.        , 5.09901951, 5.19615242, 5.29150262, 5.38516481,\n",
       "       5.47722558, 5.56776436, 5.65685425, 5.74456265, 5.83095189,\n",
       "       5.91607978, 6.        , 6.08276253, 6.164414  , 6.244998  ,\n",
       "       6.32455532, 6.40312424])"
      ]
     },
     "execution_count": 59,
     "metadata": {},
     "output_type": "execute_result"
    }
   ],
   "source": [
    "np.sqrt(Akash_array7)  # Squart root of all element which is stored in Akash_array7 "
   ]
  },
  {
   "cell_type": "code",
   "execution_count": 60,
   "id": "d5e090d7",
   "metadata": {},
   "outputs": [
    {
     "data": {
      "text/plain": [
       "array([1.60943791, 1.79175947, 1.94591015, 2.07944154, 2.19722458,\n",
       "       2.30258509, 2.39789527, 2.48490665, 2.56494936, 2.63905733,\n",
       "       2.7080502 , 2.77258872, 2.83321334, 2.89037176, 2.94443898,\n",
       "       2.99573227, 3.04452244, 3.09104245, 3.13549422, 3.17805383,\n",
       "       3.21887582, 3.25809654, 3.29583687, 3.33220451, 3.36729583,\n",
       "       3.40119738, 3.4339872 , 3.4657359 , 3.49650756, 3.52636052,\n",
       "       3.55534806, 3.58351894, 3.61091791, 3.63758616, 3.66356165,\n",
       "       3.68887945, 3.71357207])"
      ]
     },
     "execution_count": 60,
     "metadata": {},
     "output_type": "execute_result"
    }
   ],
   "source": [
    "np.log(Akash_array7) #Logirithm of all element which is stored in Akash_array7"
   ]
  },
  {
   "cell_type": "code",
   "execution_count": 61,
   "id": "93eaf5f1",
   "metadata": {},
   "outputs": [
    {
     "data": {
      "text/plain": [
       "41"
      ]
     },
     "execution_count": 61,
     "metadata": {},
     "output_type": "execute_result"
    }
   ],
   "source": [
    "np.max(Akash_array7)"
   ]
  },
  {
   "cell_type": "code",
   "execution_count": 62,
   "id": "3de4d7a7",
   "metadata": {},
   "outputs": [
    {
     "data": {
      "text/plain": [
       "5"
      ]
     },
     "execution_count": 62,
     "metadata": {},
     "output_type": "execute_result"
    }
   ],
   "source": [
    "np.min(Akash_array7)"
   ]
  },
  {
   "cell_type": "code",
   "execution_count": 63,
   "id": "31b2fb4c",
   "metadata": {},
   "outputs": [
    {
     "data": {
      "text/plain": [
       "36"
      ]
     },
     "execution_count": 63,
     "metadata": {},
     "output_type": "execute_result"
    }
   ],
   "source": [
    "np.argmax(Akash_array7) # Index of maximum number"
   ]
  },
  {
   "cell_type": "code",
   "execution_count": 64,
   "id": "f8f9ca59",
   "metadata": {},
   "outputs": [
    {
     "data": {
      "text/plain": [
       "0"
      ]
     },
     "execution_count": 64,
     "metadata": {},
     "output_type": "execute_result"
    }
   ],
   "source": [
    "np.argmin(Akash_array7) # Index of minimum number"
   ]
  },
  {
   "cell_type": "code",
   "execution_count": 65,
   "id": "f4a54d70",
   "metadata": {},
   "outputs": [
    {
     "data": {
      "text/plain": [
       "array([  25,   36,   49,   64,   81,  100,  121,  144,  169,  196,  225,\n",
       "        256,  289,  324,  361,  400,  441,  484,  529,  576,  625,  676,\n",
       "        729,  784,  841,  900,  961, 1024, 1089, 1156, 1225, 1296, 1369,\n",
       "       1444, 1521, 1600, 1681], dtype=int32)"
      ]
     },
     "execution_count": 65,
     "metadata": {},
     "output_type": "execute_result"
    }
   ],
   "source": [
    "np.square(Akash_array7)  # Square of all element which is stored in Akash_array7"
   ]
  },
  {
   "cell_type": "code",
   "execution_count": 66,
   "id": "07f84654",
   "metadata": {},
   "outputs": [
    {
     "data": {
      "text/plain": [
       "10.677078252031311"
      ]
     },
     "execution_count": 66,
     "metadata": {},
     "output_type": "execute_result"
    }
   ],
   "source": [
    "np.std(Akash_array7)  # Standard deviation  "
   ]
  },
  {
   "cell_type": "code",
   "execution_count": 67,
   "id": "48a7e293",
   "metadata": {},
   "outputs": [
    {
     "data": {
      "text/plain": [
       "114.0"
      ]
     },
     "execution_count": 67,
     "metadata": {},
     "output_type": "execute_result"
    }
   ],
   "source": [
    "np.var(Akash_array7)  # Variance"
   ]
  },
  {
   "cell_type": "code",
   "execution_count": 68,
   "id": "0ae7c3e1",
   "metadata": {},
   "outputs": [
    {
     "data": {
      "text/plain": [
       "23.0"
      ]
     },
     "execution_count": 68,
     "metadata": {},
     "output_type": "execute_result"
    }
   ],
   "source": [
    "np.mean(Akash_array7)  # Mean"
   ]
  },
  {
   "cell_type": "code",
   "execution_count": 69,
   "id": "7384f718",
   "metadata": {},
   "outputs": [
    {
     "data": {
      "text/plain": [
       "array([[-0.01590616, -0.67636978,  0.78526238, -1.75648516],\n",
       "       [ 0.06585092,  1.24764424, -0.91954745, -0.67744803],\n",
       "       [ 0.6675886 ,  0.10995795,  1.32609057, -0.19868499]])"
      ]
     },
     "execution_count": 69,
     "metadata": {},
     "output_type": "execute_result"
    }
   ],
   "source": [
    "Akash=np.random.randn(3,4)  ### normal distribution. random matrix 3*4\n",
    "Akash"
   ]
  },
  {
   "cell_type": "code",
   "execution_count": 70,
   "id": "5cca8060",
   "metadata": {},
   "outputs": [
    {
     "data": {
      "text/plain": [
       "array([[-0.016, -0.676,  0.785, -1.756],\n",
       "       [ 0.066,  1.248, -0.92 , -0.677],\n",
       "       [ 0.668,  0.11 ,  1.326, -0.199]])"
      ]
     },
     "execution_count": 70,
     "metadata": {},
     "output_type": "execute_result"
    }
   ],
   "source": [
    "np.round(Akash,decimals=3)  # Rounding off up to 3 places"
   ]
  },
  {
   "cell_type": "code",
   "execution_count": 71,
   "id": "3200be4b",
   "metadata": {},
   "outputs": [
    {
     "data": {
      "text/plain": [
       "array(['akash', 'jigar', 'kapil', 'nishad', 'tuba'], dtype='<U6')"
      ]
     },
     "execution_count": 71,
     "metadata": {},
     "output_type": "execute_result"
    }
   ],
   "source": [
    "names=np.array(['akash','nishad','tuba','kapil','akash','nishad','jigar'])  # it will consider only unique values\n",
    "np.unique(names)"
   ]
  }
 ],
 "metadata": {
  "kernelspec": {
   "display_name": "Python 3 (ipykernel)",
   "language": "python",
   "name": "python3"
  },
  "language_info": {
   "codemirror_mode": {
    "name": "ipython",
    "version": 3
   },
   "file_extension": ".py",
   "mimetype": "text/x-python",
   "name": "python",
   "nbconvert_exporter": "python",
   "pygments_lexer": "ipython3",
   "version": "3.9.7"
  }
 },
 "nbformat": 4,
 "nbformat_minor": 5
}
