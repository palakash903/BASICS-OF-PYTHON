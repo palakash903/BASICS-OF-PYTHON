{
 "cells": [
  {
   "cell_type": "code",
   "execution_count": 3,
   "id": "c90e0d36",
   "metadata": {},
   "outputs": [],
   "source": [
    "import numpy as np   # It might be needed so,I import it."
   ]
  },
  {
   "cell_type": "code",
   "execution_count": 4,
   "id": "b179a4e2",
   "metadata": {},
   "outputs": [],
   "source": [
    "import pandas as pd"
   ]
  },
  {
   "cell_type": "markdown",
   "id": "730a47a2",
   "metadata": {},
   "source": [
    "## Pandas dataframe and indexing"
   ]
  },
  {
   "cell_type": "code",
   "execution_count": 5,
   "id": "417f7bc0",
   "metadata": {},
   "outputs": [
    {
     "data": {
      "text/plain": [
       "akash     6\n",
       "nishad    7\n",
       "tuba      8\n",
       "kapil     9\n",
       "dtype: int64"
      ]
     },
     "execution_count": 5,
     "metadata": {},
     "output_type": "execute_result"
    }
   ],
   "source": [
    "name=pd.Series([6,7,8,9],index=['akash','nishad','tuba','kapil'])   # This is called data frame or uni-dimensional tabula column\n",
    "name"
   ]
  },
  {
   "cell_type": "code",
   "execution_count": 6,
   "id": "5e19da62",
   "metadata": {},
   "outputs": [
    {
     "data": {
      "text/plain": [
       "8"
      ]
     },
     "execution_count": 6,
     "metadata": {},
     "output_type": "execute_result"
    }
   ],
   "source": [
    "name['tuba']   # Retrieving the assigned number"
   ]
  },
  {
   "cell_type": "code",
   "execution_count": 7,
   "id": "e32a31d7",
   "metadata": {},
   "outputs": [
    {
     "data": {
      "text/plain": [
       "9"
      ]
     },
     "execution_count": 7,
     "metadata": {},
     "output_type": "execute_result"
    }
   ],
   "source": [
    "name['kapil']"
   ]
  },
  {
   "cell_type": "code",
   "execution_count": 8,
   "id": "d99a69df",
   "metadata": {},
   "outputs": [
    {
     "data": {
      "text/plain": [
       "6"
      ]
     },
     "execution_count": 8,
     "metadata": {},
     "output_type": "execute_result"
    }
   ],
   "source": [
    "name['akash']"
   ]
  },
  {
   "cell_type": "code",
   "execution_count": 9,
   "id": "2373ab41",
   "metadata": {},
   "outputs": [
    {
     "data": {
      "text/plain": [
       "7"
      ]
     },
     "execution_count": 9,
     "metadata": {},
     "output_type": "execute_result"
    }
   ],
   "source": [
    "name['nishad']"
   ]
  },
  {
   "cell_type": "code",
   "execution_count": 10,
   "id": "241d781e",
   "metadata": {},
   "outputs": [
    {
     "data": {
      "text/plain": [
       "akash      10\n",
       "nishad     11\n",
       "tuba       12\n",
       "kapil      13\n",
       "jigar      14\n",
       "saurabh    15\n",
       "dtype: int64"
      ]
     },
     "execution_count": 10,
     "metadata": {},
     "output_type": "execute_result"
    }
   ],
   "source": [
    "name2=pd.Series([10,11,12,13,14,15],index=['akash','nishad','tuba','kapil','jigar','saurabh'])\n",
    "name2"
   ]
  },
  {
   "cell_type": "code",
   "execution_count": 11,
   "id": "18e10855",
   "metadata": {},
   "outputs": [
    {
     "data": {
      "text/plain": [
       "akash      16.0\n",
       "jigar       NaN\n",
       "kapil      22.0\n",
       "nishad     18.0\n",
       "saurabh     NaN\n",
       "tuba       20.0\n",
       "dtype: float64"
      ]
     },
     "execution_count": 11,
     "metadata": {},
     "output_type": "execute_result"
    }
   ],
   "source": [
    "name+name2"
   ]
  },
  {
   "cell_type": "code",
   "execution_count": 12,
   "id": "09e201b6",
   "metadata": {},
   "outputs": [
    {
     "data": {
      "text/html": [
       "<div>\n",
       "<style scoped>\n",
       "    .dataframe tbody tr th:only-of-type {\n",
       "        vertical-align: middle;\n",
       "    }\n",
       "\n",
       "    .dataframe tbody tr th {\n",
       "        vertical-align: top;\n",
       "    }\n",
       "\n",
       "    .dataframe thead th {\n",
       "        text-align: right;\n",
       "    }\n",
       "</style>\n",
       "<table border=\"1\" class=\"dataframe\">\n",
       "  <thead>\n",
       "    <tr style=\"text-align: right;\">\n",
       "      <th></th>\n",
       "      <th>Maths</th>\n",
       "      <th>Science</th>\n",
       "      <th>Social_Science</th>\n",
       "      <th>English</th>\n",
       "    </tr>\n",
       "  </thead>\n",
       "  <tbody>\n",
       "    <tr>\n",
       "      <th>Akash</th>\n",
       "      <td>0.272334</td>\n",
       "      <td>0.485308</td>\n",
       "      <td>0.672836</td>\n",
       "      <td>0.024442</td>\n",
       "    </tr>\n",
       "    <tr>\n",
       "      <th>Nishad</th>\n",
       "      <td>0.762387</td>\n",
       "      <td>0.310521</td>\n",
       "      <td>0.404577</td>\n",
       "      <td>0.628556</td>\n",
       "    </tr>\n",
       "    <tr>\n",
       "      <th>Kapil</th>\n",
       "      <td>0.618160</td>\n",
       "      <td>0.749763</td>\n",
       "      <td>0.053888</td>\n",
       "      <td>0.524947</td>\n",
       "    </tr>\n",
       "    <tr>\n",
       "      <th>Jigar</th>\n",
       "      <td>0.071877</td>\n",
       "      <td>0.421123</td>\n",
       "      <td>0.832749</td>\n",
       "      <td>0.643583</td>\n",
       "    </tr>\n",
       "    <tr>\n",
       "      <th>Tuba</th>\n",
       "      <td>0.107705</td>\n",
       "      <td>0.580278</td>\n",
       "      <td>0.079063</td>\n",
       "      <td>0.954430</td>\n",
       "    </tr>\n",
       "    <tr>\n",
       "      <th>Saurabh</th>\n",
       "      <td>0.104675</td>\n",
       "      <td>0.449891</td>\n",
       "      <td>0.137850</td>\n",
       "      <td>0.762016</td>\n",
       "    </tr>\n",
       "  </tbody>\n",
       "</table>\n",
       "</div>"
      ],
      "text/plain": [
       "            Maths   Science  Social_Science   English\n",
       "Akash    0.272334  0.485308        0.672836  0.024442\n",
       "Nishad   0.762387  0.310521        0.404577  0.628556\n",
       "Kapil    0.618160  0.749763        0.053888  0.524947\n",
       "Jigar    0.071877  0.421123        0.832749  0.643583\n",
       "Tuba     0.107705  0.580278        0.079063  0.954430\n",
       "Saurabh  0.104675  0.449891        0.137850  0.762016"
      ]
     },
     "execution_count": 12,
     "metadata": {},
     "output_type": "execute_result"
    }
   ],
   "source": [
    "Akash_dataframe=pd.DataFrame(np.random.rand(6,4),index='Akash Nishad Kapil Jigar Tuba Saurabh'.split(),columns='Maths Science Social_Science English '.split())\n",
    "Akash_dataframe          # Creating multi-dimensional tabula column \n",
    "              # if you don't want to write split then add comma."
   ]
  },
  {
   "cell_type": "code",
   "execution_count": 13,
   "id": "f311c39c",
   "metadata": {},
   "outputs": [
    {
     "data": {
      "text/plain": [
       "Akash      0.485308\n",
       "Nishad     0.310521\n",
       "Kapil      0.749763\n",
       "Jigar      0.421123\n",
       "Tuba       0.580278\n",
       "Saurabh    0.449891\n",
       "Name: Science, dtype: float64"
      ]
     },
     "execution_count": 13,
     "metadata": {},
     "output_type": "execute_result"
    }
   ],
   "source": [
    "Akash_dataframe['Science']   # calling Science column"
   ]
  },
  {
   "cell_type": "code",
   "execution_count": 14,
   "id": "10853fda",
   "metadata": {},
   "outputs": [
    {
     "data": {
      "text/plain": [
       "Akash      0.272334\n",
       "Nishad     0.762387\n",
       "Kapil      0.618160\n",
       "Jigar      0.071877\n",
       "Tuba       0.107705\n",
       "Saurabh    0.104675\n",
       "Name: Maths, dtype: float64"
      ]
     },
     "execution_count": 14,
     "metadata": {},
     "output_type": "execute_result"
    }
   ],
   "source": [
    "Akash_dataframe['Maths']"
   ]
  },
  {
   "cell_type": "code",
   "execution_count": 15,
   "id": "89c9a0ef",
   "metadata": {},
   "outputs": [
    {
     "data": {
      "text/plain": [
       "Akash      0.672836\n",
       "Nishad     0.404577\n",
       "Kapil      0.053888\n",
       "Jigar      0.832749\n",
       "Tuba       0.079063\n",
       "Saurabh    0.137850\n",
       "Name: Social_Science, dtype: float64"
      ]
     },
     "execution_count": 15,
     "metadata": {},
     "output_type": "execute_result"
    }
   ],
   "source": [
    "Akash_dataframe['Social_Science']"
   ]
  },
  {
   "cell_type": "code",
   "execution_count": 16,
   "id": "2a8969e7",
   "metadata": {},
   "outputs": [
    {
     "data": {
      "text/plain": [
       "Akash      0.024442\n",
       "Nishad     0.628556\n",
       "Kapil      0.524947\n",
       "Jigar      0.643583\n",
       "Tuba       0.954430\n",
       "Saurabh    0.762016\n",
       "Name: English, dtype: float64"
      ]
     },
     "execution_count": 16,
     "metadata": {},
     "output_type": "execute_result"
    }
   ],
   "source": [
    "Akash_dataframe['English']"
   ]
  },
  {
   "cell_type": "code",
   "execution_count": 17,
   "id": "621f4ddd",
   "metadata": {},
   "outputs": [
    {
     "data": {
      "text/html": [
       "<div>\n",
       "<style scoped>\n",
       "    .dataframe tbody tr th:only-of-type {\n",
       "        vertical-align: middle;\n",
       "    }\n",
       "\n",
       "    .dataframe tbody tr th {\n",
       "        vertical-align: top;\n",
       "    }\n",
       "\n",
       "    .dataframe thead th {\n",
       "        text-align: right;\n",
       "    }\n",
       "</style>\n",
       "<table border=\"1\" class=\"dataframe\">\n",
       "  <thead>\n",
       "    <tr style=\"text-align: right;\">\n",
       "      <th></th>\n",
       "      <th>Science</th>\n",
       "      <th>English</th>\n",
       "    </tr>\n",
       "  </thead>\n",
       "  <tbody>\n",
       "    <tr>\n",
       "      <th>Akash</th>\n",
       "      <td>0.485308</td>\n",
       "      <td>0.024442</td>\n",
       "    </tr>\n",
       "    <tr>\n",
       "      <th>Nishad</th>\n",
       "      <td>0.310521</td>\n",
       "      <td>0.628556</td>\n",
       "    </tr>\n",
       "    <tr>\n",
       "      <th>Kapil</th>\n",
       "      <td>0.749763</td>\n",
       "      <td>0.524947</td>\n",
       "    </tr>\n",
       "    <tr>\n",
       "      <th>Jigar</th>\n",
       "      <td>0.421123</td>\n",
       "      <td>0.643583</td>\n",
       "    </tr>\n",
       "    <tr>\n",
       "      <th>Tuba</th>\n",
       "      <td>0.580278</td>\n",
       "      <td>0.954430</td>\n",
       "    </tr>\n",
       "    <tr>\n",
       "      <th>Saurabh</th>\n",
       "      <td>0.449891</td>\n",
       "      <td>0.762016</td>\n",
       "    </tr>\n",
       "  </tbody>\n",
       "</table>\n",
       "</div>"
      ],
      "text/plain": [
       "          Science   English\n",
       "Akash    0.485308  0.024442\n",
       "Nishad   0.310521  0.628556\n",
       "Kapil    0.749763  0.524947\n",
       "Jigar    0.421123  0.643583\n",
       "Tuba     0.580278  0.954430\n",
       "Saurabh  0.449891  0.762016"
      ]
     },
     "execution_count": 17,
     "metadata": {},
     "output_type": "execute_result"
    }
   ],
   "source": [
    "Akash_dataframe[['Science','English']]"
   ]
  },
  {
   "cell_type": "code",
   "execution_count": 18,
   "id": "d64f01fb",
   "metadata": {},
   "outputs": [
    {
     "data": {
      "text/html": [
       "<div>\n",
       "<style scoped>\n",
       "    .dataframe tbody tr th:only-of-type {\n",
       "        vertical-align: middle;\n",
       "    }\n",
       "\n",
       "    .dataframe tbody tr th {\n",
       "        vertical-align: top;\n",
       "    }\n",
       "\n",
       "    .dataframe thead th {\n",
       "        text-align: right;\n",
       "    }\n",
       "</style>\n",
       "<table border=\"1\" class=\"dataframe\">\n",
       "  <thead>\n",
       "    <tr style=\"text-align: right;\">\n",
       "      <th></th>\n",
       "      <th>Maths</th>\n",
       "      <th>English</th>\n",
       "    </tr>\n",
       "  </thead>\n",
       "  <tbody>\n",
       "    <tr>\n",
       "      <th>Akash</th>\n",
       "      <td>0.272334</td>\n",
       "      <td>0.024442</td>\n",
       "    </tr>\n",
       "    <tr>\n",
       "      <th>Nishad</th>\n",
       "      <td>0.762387</td>\n",
       "      <td>0.628556</td>\n",
       "    </tr>\n",
       "    <tr>\n",
       "      <th>Kapil</th>\n",
       "      <td>0.618160</td>\n",
       "      <td>0.524947</td>\n",
       "    </tr>\n",
       "    <tr>\n",
       "      <th>Jigar</th>\n",
       "      <td>0.071877</td>\n",
       "      <td>0.643583</td>\n",
       "    </tr>\n",
       "    <tr>\n",
       "      <th>Tuba</th>\n",
       "      <td>0.107705</td>\n",
       "      <td>0.954430</td>\n",
       "    </tr>\n",
       "    <tr>\n",
       "      <th>Saurabh</th>\n",
       "      <td>0.104675</td>\n",
       "      <td>0.762016</td>\n",
       "    </tr>\n",
       "  </tbody>\n",
       "</table>\n",
       "</div>"
      ],
      "text/plain": [
       "            Maths   English\n",
       "Akash    0.272334  0.024442\n",
       "Nishad   0.762387  0.628556\n",
       "Kapil    0.618160  0.524947\n",
       "Jigar    0.071877  0.643583\n",
       "Tuba     0.107705  0.954430\n",
       "Saurabh  0.104675  0.762016"
      ]
     },
     "execution_count": 18,
     "metadata": {},
     "output_type": "execute_result"
    }
   ],
   "source": [
    "Akash_dataframe[['Maths','English']]"
   ]
  },
  {
   "cell_type": "code",
   "execution_count": 19,
   "id": "1696398e",
   "metadata": {},
   "outputs": [
    {
     "data": {
      "text/html": [
       "<div>\n",
       "<style scoped>\n",
       "    .dataframe tbody tr th:only-of-type {\n",
       "        vertical-align: middle;\n",
       "    }\n",
       "\n",
       "    .dataframe tbody tr th {\n",
       "        vertical-align: top;\n",
       "    }\n",
       "\n",
       "    .dataframe thead th {\n",
       "        text-align: right;\n",
       "    }\n",
       "</style>\n",
       "<table border=\"1\" class=\"dataframe\">\n",
       "  <thead>\n",
       "    <tr style=\"text-align: right;\">\n",
       "      <th></th>\n",
       "      <th>Science</th>\n",
       "      <th>Social_Science</th>\n",
       "    </tr>\n",
       "  </thead>\n",
       "  <tbody>\n",
       "    <tr>\n",
       "      <th>Akash</th>\n",
       "      <td>0.485308</td>\n",
       "      <td>0.672836</td>\n",
       "    </tr>\n",
       "    <tr>\n",
       "      <th>Nishad</th>\n",
       "      <td>0.310521</td>\n",
       "      <td>0.404577</td>\n",
       "    </tr>\n",
       "    <tr>\n",
       "      <th>Kapil</th>\n",
       "      <td>0.749763</td>\n",
       "      <td>0.053888</td>\n",
       "    </tr>\n",
       "    <tr>\n",
       "      <th>Jigar</th>\n",
       "      <td>0.421123</td>\n",
       "      <td>0.832749</td>\n",
       "    </tr>\n",
       "    <tr>\n",
       "      <th>Tuba</th>\n",
       "      <td>0.580278</td>\n",
       "      <td>0.079063</td>\n",
       "    </tr>\n",
       "    <tr>\n",
       "      <th>Saurabh</th>\n",
       "      <td>0.449891</td>\n",
       "      <td>0.137850</td>\n",
       "    </tr>\n",
       "  </tbody>\n",
       "</table>\n",
       "</div>"
      ],
      "text/plain": [
       "          Science  Social_Science\n",
       "Akash    0.485308        0.672836\n",
       "Nishad   0.310521        0.404577\n",
       "Kapil    0.749763        0.053888\n",
       "Jigar    0.421123        0.832749\n",
       "Tuba     0.580278        0.079063\n",
       "Saurabh  0.449891        0.137850"
      ]
     },
     "execution_count": 19,
     "metadata": {},
     "output_type": "execute_result"
    }
   ],
   "source": [
    "Akash_dataframe[['Science','Social_Science']]"
   ]
  },
  {
   "cell_type": "code",
   "execution_count": 20,
   "id": "569316ab",
   "metadata": {},
   "outputs": [
    {
     "data": {
      "text/html": [
       "<div>\n",
       "<style scoped>\n",
       "    .dataframe tbody tr th:only-of-type {\n",
       "        vertical-align: middle;\n",
       "    }\n",
       "\n",
       "    .dataframe tbody tr th {\n",
       "        vertical-align: top;\n",
       "    }\n",
       "\n",
       "    .dataframe thead th {\n",
       "        text-align: right;\n",
       "    }\n",
       "</style>\n",
       "<table border=\"1\" class=\"dataframe\">\n",
       "  <thead>\n",
       "    <tr style=\"text-align: right;\">\n",
       "      <th></th>\n",
       "      <th>Maths</th>\n",
       "      <th>English</th>\n",
       "    </tr>\n",
       "  </thead>\n",
       "  <tbody>\n",
       "    <tr>\n",
       "      <th>Akash</th>\n",
       "      <td>0.272334</td>\n",
       "      <td>0.024442</td>\n",
       "    </tr>\n",
       "    <tr>\n",
       "      <th>Nishad</th>\n",
       "      <td>0.762387</td>\n",
       "      <td>0.628556</td>\n",
       "    </tr>\n",
       "    <tr>\n",
       "      <th>Kapil</th>\n",
       "      <td>0.618160</td>\n",
       "      <td>0.524947</td>\n",
       "    </tr>\n",
       "    <tr>\n",
       "      <th>Jigar</th>\n",
       "      <td>0.071877</td>\n",
       "      <td>0.643583</td>\n",
       "    </tr>\n",
       "    <tr>\n",
       "      <th>Tuba</th>\n",
       "      <td>0.107705</td>\n",
       "      <td>0.954430</td>\n",
       "    </tr>\n",
       "    <tr>\n",
       "      <th>Saurabh</th>\n",
       "      <td>0.104675</td>\n",
       "      <td>0.762016</td>\n",
       "    </tr>\n",
       "  </tbody>\n",
       "</table>\n",
       "</div>"
      ],
      "text/plain": [
       "            Maths   English\n",
       "Akash    0.272334  0.024442\n",
       "Nishad   0.762387  0.628556\n",
       "Kapil    0.618160  0.524947\n",
       "Jigar    0.071877  0.643583\n",
       "Tuba     0.107705  0.954430\n",
       "Saurabh  0.104675  0.762016"
      ]
     },
     "execution_count": 20,
     "metadata": {},
     "output_type": "execute_result"
    }
   ],
   "source": [
    "Akash_dataframe[['Maths','English']]"
   ]
  },
  {
   "cell_type": "code",
   "execution_count": 21,
   "id": "576f9def",
   "metadata": {},
   "outputs": [
    {
     "data": {
      "text/html": [
       "<div>\n",
       "<style scoped>\n",
       "    .dataframe tbody tr th:only-of-type {\n",
       "        vertical-align: middle;\n",
       "    }\n",
       "\n",
       "    .dataframe tbody tr th {\n",
       "        vertical-align: top;\n",
       "    }\n",
       "\n",
       "    .dataframe thead th {\n",
       "        text-align: right;\n",
       "    }\n",
       "</style>\n",
       "<table border=\"1\" class=\"dataframe\">\n",
       "  <thead>\n",
       "    <tr style=\"text-align: right;\">\n",
       "      <th></th>\n",
       "      <th>Social_Science</th>\n",
       "      <th>Maths</th>\n",
       "    </tr>\n",
       "  </thead>\n",
       "  <tbody>\n",
       "    <tr>\n",
       "      <th>Akash</th>\n",
       "      <td>0.672836</td>\n",
       "      <td>0.272334</td>\n",
       "    </tr>\n",
       "    <tr>\n",
       "      <th>Nishad</th>\n",
       "      <td>0.404577</td>\n",
       "      <td>0.762387</td>\n",
       "    </tr>\n",
       "    <tr>\n",
       "      <th>Kapil</th>\n",
       "      <td>0.053888</td>\n",
       "      <td>0.618160</td>\n",
       "    </tr>\n",
       "    <tr>\n",
       "      <th>Jigar</th>\n",
       "      <td>0.832749</td>\n",
       "      <td>0.071877</td>\n",
       "    </tr>\n",
       "    <tr>\n",
       "      <th>Tuba</th>\n",
       "      <td>0.079063</td>\n",
       "      <td>0.107705</td>\n",
       "    </tr>\n",
       "    <tr>\n",
       "      <th>Saurabh</th>\n",
       "      <td>0.137850</td>\n",
       "      <td>0.104675</td>\n",
       "    </tr>\n",
       "  </tbody>\n",
       "</table>\n",
       "</div>"
      ],
      "text/plain": [
       "         Social_Science     Maths\n",
       "Akash          0.672836  0.272334\n",
       "Nishad         0.404577  0.762387\n",
       "Kapil          0.053888  0.618160\n",
       "Jigar          0.832749  0.071877\n",
       "Tuba           0.079063  0.107705\n",
       "Saurabh        0.137850  0.104675"
      ]
     },
     "execution_count": 21,
     "metadata": {},
     "output_type": "execute_result"
    }
   ],
   "source": [
    "Akash_dataframe[['Social_Science','Maths']]"
   ]
  },
  {
   "cell_type": "code",
   "execution_count": 22,
   "id": "8c73ea17",
   "metadata": {},
   "outputs": [
    {
     "data": {
      "text/html": [
       "<div>\n",
       "<style scoped>\n",
       "    .dataframe tbody tr th:only-of-type {\n",
       "        vertical-align: middle;\n",
       "    }\n",
       "\n",
       "    .dataframe tbody tr th {\n",
       "        vertical-align: top;\n",
       "    }\n",
       "\n",
       "    .dataframe thead th {\n",
       "        text-align: right;\n",
       "    }\n",
       "</style>\n",
       "<table border=\"1\" class=\"dataframe\">\n",
       "  <thead>\n",
       "    <tr style=\"text-align: right;\">\n",
       "      <th></th>\n",
       "      <th>Science</th>\n",
       "      <th>Maths</th>\n",
       "      <th>English</th>\n",
       "    </tr>\n",
       "  </thead>\n",
       "  <tbody>\n",
       "    <tr>\n",
       "      <th>Akash</th>\n",
       "      <td>0.485308</td>\n",
       "      <td>0.272334</td>\n",
       "      <td>0.024442</td>\n",
       "    </tr>\n",
       "    <tr>\n",
       "      <th>Nishad</th>\n",
       "      <td>0.310521</td>\n",
       "      <td>0.762387</td>\n",
       "      <td>0.628556</td>\n",
       "    </tr>\n",
       "    <tr>\n",
       "      <th>Kapil</th>\n",
       "      <td>0.749763</td>\n",
       "      <td>0.618160</td>\n",
       "      <td>0.524947</td>\n",
       "    </tr>\n",
       "    <tr>\n",
       "      <th>Jigar</th>\n",
       "      <td>0.421123</td>\n",
       "      <td>0.071877</td>\n",
       "      <td>0.643583</td>\n",
       "    </tr>\n",
       "    <tr>\n",
       "      <th>Tuba</th>\n",
       "      <td>0.580278</td>\n",
       "      <td>0.107705</td>\n",
       "      <td>0.954430</td>\n",
       "    </tr>\n",
       "    <tr>\n",
       "      <th>Saurabh</th>\n",
       "      <td>0.449891</td>\n",
       "      <td>0.104675</td>\n",
       "      <td>0.762016</td>\n",
       "    </tr>\n",
       "  </tbody>\n",
       "</table>\n",
       "</div>"
      ],
      "text/plain": [
       "          Science     Maths   English\n",
       "Akash    0.485308  0.272334  0.024442\n",
       "Nishad   0.310521  0.762387  0.628556\n",
       "Kapil    0.749763  0.618160  0.524947\n",
       "Jigar    0.421123  0.071877  0.643583\n",
       "Tuba     0.580278  0.107705  0.954430\n",
       "Saurabh  0.449891  0.104675  0.762016"
      ]
     },
     "execution_count": 22,
     "metadata": {},
     "output_type": "execute_result"
    }
   ],
   "source": [
    "Akash_dataframe[['Science','Maths','English']]   # Calling Science Maths and English"
   ]
  },
  {
   "cell_type": "code",
   "execution_count": 23,
   "id": "4c366e04",
   "metadata": {},
   "outputs": [
    {
     "data": {
      "text/html": [
       "<div>\n",
       "<style scoped>\n",
       "    .dataframe tbody tr th:only-of-type {\n",
       "        vertical-align: middle;\n",
       "    }\n",
       "\n",
       "    .dataframe tbody tr th {\n",
       "        vertical-align: top;\n",
       "    }\n",
       "\n",
       "    .dataframe thead th {\n",
       "        text-align: right;\n",
       "    }\n",
       "</style>\n",
       "<table border=\"1\" class=\"dataframe\">\n",
       "  <thead>\n",
       "    <tr style=\"text-align: right;\">\n",
       "      <th></th>\n",
       "      <th>Maths</th>\n",
       "      <th>Science</th>\n",
       "      <th>Social_Science</th>\n",
       "      <th>English</th>\n",
       "      <th>Gujarati</th>\n",
       "    </tr>\n",
       "  </thead>\n",
       "  <tbody>\n",
       "    <tr>\n",
       "      <th>Akash</th>\n",
       "      <td>0.272334</td>\n",
       "      <td>0.485308</td>\n",
       "      <td>0.672836</td>\n",
       "      <td>0.024442</td>\n",
       "      <td>1.158144</td>\n",
       "    </tr>\n",
       "    <tr>\n",
       "      <th>Nishad</th>\n",
       "      <td>0.762387</td>\n",
       "      <td>0.310521</td>\n",
       "      <td>0.404577</td>\n",
       "      <td>0.628556</td>\n",
       "      <td>0.715098</td>\n",
       "    </tr>\n",
       "    <tr>\n",
       "      <th>Kapil</th>\n",
       "      <td>0.618160</td>\n",
       "      <td>0.749763</td>\n",
       "      <td>0.053888</td>\n",
       "      <td>0.524947</td>\n",
       "      <td>0.803651</td>\n",
       "    </tr>\n",
       "    <tr>\n",
       "      <th>Jigar</th>\n",
       "      <td>0.071877</td>\n",
       "      <td>0.421123</td>\n",
       "      <td>0.832749</td>\n",
       "      <td>0.643583</td>\n",
       "      <td>1.253872</td>\n",
       "    </tr>\n",
       "    <tr>\n",
       "      <th>Tuba</th>\n",
       "      <td>0.107705</td>\n",
       "      <td>0.580278</td>\n",
       "      <td>0.079063</td>\n",
       "      <td>0.954430</td>\n",
       "      <td>0.659341</td>\n",
       "    </tr>\n",
       "    <tr>\n",
       "      <th>Saurabh</th>\n",
       "      <td>0.104675</td>\n",
       "      <td>0.449891</td>\n",
       "      <td>0.137850</td>\n",
       "      <td>0.762016</td>\n",
       "      <td>0.587741</td>\n",
       "    </tr>\n",
       "  </tbody>\n",
       "</table>\n",
       "</div>"
      ],
      "text/plain": [
       "            Maths   Science  Social_Science   English  Gujarati\n",
       "Akash    0.272334  0.485308        0.672836  0.024442  1.158144\n",
       "Nishad   0.762387  0.310521        0.404577  0.628556  0.715098\n",
       "Kapil    0.618160  0.749763        0.053888  0.524947  0.803651\n",
       "Jigar    0.071877  0.421123        0.832749  0.643583  1.253872\n",
       "Tuba     0.107705  0.580278        0.079063  0.954430  0.659341\n",
       "Saurabh  0.104675  0.449891        0.137850  0.762016  0.587741"
      ]
     },
     "execution_count": 23,
     "metadata": {},
     "output_type": "execute_result"
    }
   ],
   "source": [
    "Akash_dataframe['Gujarati']=Akash_dataframe['Science']+Akash_dataframe['Social_Science']  # Adding gujarati column\n",
    "Akash_dataframe"
   ]
  },
  {
   "cell_type": "code",
   "execution_count": 24,
   "id": "3cb7d5a9",
   "metadata": {},
   "outputs": [
    {
     "data": {
      "text/html": [
       "<div>\n",
       "<style scoped>\n",
       "    .dataframe tbody tr th:only-of-type {\n",
       "        vertical-align: middle;\n",
       "    }\n",
       "\n",
       "    .dataframe tbody tr th {\n",
       "        vertical-align: top;\n",
       "    }\n",
       "\n",
       "    .dataframe thead th {\n",
       "        text-align: right;\n",
       "    }\n",
       "</style>\n",
       "<table border=\"1\" class=\"dataframe\">\n",
       "  <thead>\n",
       "    <tr style=\"text-align: right;\">\n",
       "      <th></th>\n",
       "      <th>Maths</th>\n",
       "      <th>Science</th>\n",
       "      <th>Social_Science</th>\n",
       "      <th>English</th>\n",
       "      <th>Gujarati</th>\n",
       "      <th>Hindi</th>\n",
       "    </tr>\n",
       "  </thead>\n",
       "  <tbody>\n",
       "    <tr>\n",
       "      <th>Akash</th>\n",
       "      <td>0.272334</td>\n",
       "      <td>0.485308</td>\n",
       "      <td>0.672836</td>\n",
       "      <td>0.024442</td>\n",
       "      <td>1.158144</td>\n",
       "      <td>0.296776</td>\n",
       "    </tr>\n",
       "    <tr>\n",
       "      <th>Nishad</th>\n",
       "      <td>0.762387</td>\n",
       "      <td>0.310521</td>\n",
       "      <td>0.404577</td>\n",
       "      <td>0.628556</td>\n",
       "      <td>0.715098</td>\n",
       "      <td>1.390943</td>\n",
       "    </tr>\n",
       "    <tr>\n",
       "      <th>Kapil</th>\n",
       "      <td>0.618160</td>\n",
       "      <td>0.749763</td>\n",
       "      <td>0.053888</td>\n",
       "      <td>0.524947</td>\n",
       "      <td>0.803651</td>\n",
       "      <td>1.143107</td>\n",
       "    </tr>\n",
       "    <tr>\n",
       "      <th>Jigar</th>\n",
       "      <td>0.071877</td>\n",
       "      <td>0.421123</td>\n",
       "      <td>0.832749</td>\n",
       "      <td>0.643583</td>\n",
       "      <td>1.253872</td>\n",
       "      <td>0.715460</td>\n",
       "    </tr>\n",
       "    <tr>\n",
       "      <th>Tuba</th>\n",
       "      <td>0.107705</td>\n",
       "      <td>0.580278</td>\n",
       "      <td>0.079063</td>\n",
       "      <td>0.954430</td>\n",
       "      <td>0.659341</td>\n",
       "      <td>1.062135</td>\n",
       "    </tr>\n",
       "    <tr>\n",
       "      <th>Saurabh</th>\n",
       "      <td>0.104675</td>\n",
       "      <td>0.449891</td>\n",
       "      <td>0.137850</td>\n",
       "      <td>0.762016</td>\n",
       "      <td>0.587741</td>\n",
       "      <td>0.866691</td>\n",
       "    </tr>\n",
       "  </tbody>\n",
       "</table>\n",
       "</div>"
      ],
      "text/plain": [
       "            Maths   Science  Social_Science   English  Gujarati     Hindi\n",
       "Akash    0.272334  0.485308        0.672836  0.024442  1.158144  0.296776\n",
       "Nishad   0.762387  0.310521        0.404577  0.628556  0.715098  1.390943\n",
       "Kapil    0.618160  0.749763        0.053888  0.524947  0.803651  1.143107\n",
       "Jigar    0.071877  0.421123        0.832749  0.643583  1.253872  0.715460\n",
       "Tuba     0.107705  0.580278        0.079063  0.954430  0.659341  1.062135\n",
       "Saurabh  0.104675  0.449891        0.137850  0.762016  0.587741  0.866691"
      ]
     },
     "execution_count": 24,
     "metadata": {},
     "output_type": "execute_result"
    }
   ],
   "source": [
    "Akash_dataframe['Hindi']=Akash_dataframe['Maths']+Akash_dataframe['English']  # Adding gujarati column\n",
    "Akash_dataframe"
   ]
  },
  {
   "cell_type": "code",
   "execution_count": 25,
   "id": "1799e650",
   "metadata": {},
   "outputs": [
    {
     "data": {
      "text/html": [
       "<div>\n",
       "<style scoped>\n",
       "    .dataframe tbody tr th:only-of-type {\n",
       "        vertical-align: middle;\n",
       "    }\n",
       "\n",
       "    .dataframe tbody tr th {\n",
       "        vertical-align: top;\n",
       "    }\n",
       "\n",
       "    .dataframe thead th {\n",
       "        text-align: right;\n",
       "    }\n",
       "</style>\n",
       "<table border=\"1\" class=\"dataframe\">\n",
       "  <thead>\n",
       "    <tr style=\"text-align: right;\">\n",
       "      <th></th>\n",
       "      <th>Maths</th>\n",
       "      <th>Science</th>\n",
       "      <th>Social_Science</th>\n",
       "      <th>English</th>\n",
       "      <th>Gujarati</th>\n",
       "      <th>Hindi</th>\n",
       "      <th>Thermodynamics</th>\n",
       "    </tr>\n",
       "  </thead>\n",
       "  <tbody>\n",
       "    <tr>\n",
       "      <th>Akash</th>\n",
       "      <td>0.272334</td>\n",
       "      <td>0.485308</td>\n",
       "      <td>0.672836</td>\n",
       "      <td>0.024442</td>\n",
       "      <td>1.158144</td>\n",
       "      <td>0.296776</td>\n",
       "      <td>1.454920</td>\n",
       "    </tr>\n",
       "    <tr>\n",
       "      <th>Nishad</th>\n",
       "      <td>0.762387</td>\n",
       "      <td>0.310521</td>\n",
       "      <td>0.404577</td>\n",
       "      <td>0.628556</td>\n",
       "      <td>0.715098</td>\n",
       "      <td>1.390943</td>\n",
       "      <td>2.106040</td>\n",
       "    </tr>\n",
       "    <tr>\n",
       "      <th>Kapil</th>\n",
       "      <td>0.618160</td>\n",
       "      <td>0.749763</td>\n",
       "      <td>0.053888</td>\n",
       "      <td>0.524947</td>\n",
       "      <td>0.803651</td>\n",
       "      <td>1.143107</td>\n",
       "      <td>1.946758</td>\n",
       "    </tr>\n",
       "    <tr>\n",
       "      <th>Jigar</th>\n",
       "      <td>0.071877</td>\n",
       "      <td>0.421123</td>\n",
       "      <td>0.832749</td>\n",
       "      <td>0.643583</td>\n",
       "      <td>1.253872</td>\n",
       "      <td>0.715460</td>\n",
       "      <td>1.969332</td>\n",
       "    </tr>\n",
       "    <tr>\n",
       "      <th>Tuba</th>\n",
       "      <td>0.107705</td>\n",
       "      <td>0.580278</td>\n",
       "      <td>0.079063</td>\n",
       "      <td>0.954430</td>\n",
       "      <td>0.659341</td>\n",
       "      <td>1.062135</td>\n",
       "      <td>1.721476</td>\n",
       "    </tr>\n",
       "    <tr>\n",
       "      <th>Saurabh</th>\n",
       "      <td>0.104675</td>\n",
       "      <td>0.449891</td>\n",
       "      <td>0.137850</td>\n",
       "      <td>0.762016</td>\n",
       "      <td>0.587741</td>\n",
       "      <td>0.866691</td>\n",
       "      <td>1.454433</td>\n",
       "    </tr>\n",
       "  </tbody>\n",
       "</table>\n",
       "</div>"
      ],
      "text/plain": [
       "            Maths   Science  Social_Science   English  Gujarati     Hindi  \\\n",
       "Akash    0.272334  0.485308        0.672836  0.024442  1.158144  0.296776   \n",
       "Nishad   0.762387  0.310521        0.404577  0.628556  0.715098  1.390943   \n",
       "Kapil    0.618160  0.749763        0.053888  0.524947  0.803651  1.143107   \n",
       "Jigar    0.071877  0.421123        0.832749  0.643583  1.253872  0.715460   \n",
       "Tuba     0.107705  0.580278        0.079063  0.954430  0.659341  1.062135   \n",
       "Saurabh  0.104675  0.449891        0.137850  0.762016  0.587741  0.866691   \n",
       "\n",
       "         Thermodynamics  \n",
       "Akash          1.454920  \n",
       "Nishad         2.106040  \n",
       "Kapil          1.946758  \n",
       "Jigar          1.969332  \n",
       "Tuba           1.721476  \n",
       "Saurabh        1.454433  "
      ]
     },
     "execution_count": 25,
     "metadata": {},
     "output_type": "execute_result"
    }
   ],
   "source": [
    "Akash_dataframe['Thermodynamics']=Akash_dataframe['Hindi']+Akash_dataframe['Gujarati']  # Adding gujarati column\n",
    "Akash_dataframe"
   ]
  },
  {
   "cell_type": "code",
   "execution_count": 26,
   "id": "58ce3d92",
   "metadata": {},
   "outputs": [
    {
     "data": {
      "text/html": [
       "<div>\n",
       "<style scoped>\n",
       "    .dataframe tbody tr th:only-of-type {\n",
       "        vertical-align: middle;\n",
       "    }\n",
       "\n",
       "    .dataframe tbody tr th {\n",
       "        vertical-align: top;\n",
       "    }\n",
       "\n",
       "    .dataframe thead th {\n",
       "        text-align: right;\n",
       "    }\n",
       "</style>\n",
       "<table border=\"1\" class=\"dataframe\">\n",
       "  <thead>\n",
       "    <tr style=\"text-align: right;\">\n",
       "      <th></th>\n",
       "      <th>Maths</th>\n",
       "      <th>Social_Science</th>\n",
       "      <th>English</th>\n",
       "      <th>Gujarati</th>\n",
       "      <th>Hindi</th>\n",
       "      <th>Thermodynamics</th>\n",
       "    </tr>\n",
       "  </thead>\n",
       "  <tbody>\n",
       "    <tr>\n",
       "      <th>Akash</th>\n",
       "      <td>0.272334</td>\n",
       "      <td>0.672836</td>\n",
       "      <td>0.024442</td>\n",
       "      <td>1.158144</td>\n",
       "      <td>0.296776</td>\n",
       "      <td>1.454920</td>\n",
       "    </tr>\n",
       "    <tr>\n",
       "      <th>Nishad</th>\n",
       "      <td>0.762387</td>\n",
       "      <td>0.404577</td>\n",
       "      <td>0.628556</td>\n",
       "      <td>0.715098</td>\n",
       "      <td>1.390943</td>\n",
       "      <td>2.106040</td>\n",
       "    </tr>\n",
       "    <tr>\n",
       "      <th>Kapil</th>\n",
       "      <td>0.618160</td>\n",
       "      <td>0.053888</td>\n",
       "      <td>0.524947</td>\n",
       "      <td>0.803651</td>\n",
       "      <td>1.143107</td>\n",
       "      <td>1.946758</td>\n",
       "    </tr>\n",
       "    <tr>\n",
       "      <th>Jigar</th>\n",
       "      <td>0.071877</td>\n",
       "      <td>0.832749</td>\n",
       "      <td>0.643583</td>\n",
       "      <td>1.253872</td>\n",
       "      <td>0.715460</td>\n",
       "      <td>1.969332</td>\n",
       "    </tr>\n",
       "    <tr>\n",
       "      <th>Tuba</th>\n",
       "      <td>0.107705</td>\n",
       "      <td>0.079063</td>\n",
       "      <td>0.954430</td>\n",
       "      <td>0.659341</td>\n",
       "      <td>1.062135</td>\n",
       "      <td>1.721476</td>\n",
       "    </tr>\n",
       "    <tr>\n",
       "      <th>Saurabh</th>\n",
       "      <td>0.104675</td>\n",
       "      <td>0.137850</td>\n",
       "      <td>0.762016</td>\n",
       "      <td>0.587741</td>\n",
       "      <td>0.866691</td>\n",
       "      <td>1.454433</td>\n",
       "    </tr>\n",
       "  </tbody>\n",
       "</table>\n",
       "</div>"
      ],
      "text/plain": [
       "            Maths  Social_Science   English  Gujarati     Hindi  \\\n",
       "Akash    0.272334        0.672836  0.024442  1.158144  0.296776   \n",
       "Nishad   0.762387        0.404577  0.628556  0.715098  1.390943   \n",
       "Kapil    0.618160        0.053888  0.524947  0.803651  1.143107   \n",
       "Jigar    0.071877        0.832749  0.643583  1.253872  0.715460   \n",
       "Tuba     0.107705        0.079063  0.954430  0.659341  1.062135   \n",
       "Saurabh  0.104675        0.137850  0.762016  0.587741  0.866691   \n",
       "\n",
       "         Thermodynamics  \n",
       "Akash          1.454920  \n",
       "Nishad         2.106040  \n",
       "Kapil          1.946758  \n",
       "Jigar          1.969332  \n",
       "Tuba           1.721476  \n",
       "Saurabh        1.454433  "
      ]
     },
     "execution_count": 26,
     "metadata": {},
     "output_type": "execute_result"
    }
   ],
   "source": [
    "Akash_dataframe.drop('Science',axis=1)  # axis=0 is for rows and axis=1 is for column"
   ]
  },
  {
   "cell_type": "code",
   "execution_count": 27,
   "id": "75870244",
   "metadata": {},
   "outputs": [
    {
     "data": {
      "text/html": [
       "<div>\n",
       "<style scoped>\n",
       "    .dataframe tbody tr th:only-of-type {\n",
       "        vertical-align: middle;\n",
       "    }\n",
       "\n",
       "    .dataframe tbody tr th {\n",
       "        vertical-align: top;\n",
       "    }\n",
       "\n",
       "    .dataframe thead th {\n",
       "        text-align: right;\n",
       "    }\n",
       "</style>\n",
       "<table border=\"1\" class=\"dataframe\">\n",
       "  <thead>\n",
       "    <tr style=\"text-align: right;\">\n",
       "      <th></th>\n",
       "      <th>Maths</th>\n",
       "      <th>Science</th>\n",
       "      <th>Social_Science</th>\n",
       "      <th>English</th>\n",
       "      <th>Gujarati</th>\n",
       "      <th>Hindi</th>\n",
       "      <th>Thermodynamics</th>\n",
       "    </tr>\n",
       "  </thead>\n",
       "  <tbody>\n",
       "    <tr>\n",
       "      <th>Nishad</th>\n",
       "      <td>0.762387</td>\n",
       "      <td>0.310521</td>\n",
       "      <td>0.404577</td>\n",
       "      <td>0.628556</td>\n",
       "      <td>0.715098</td>\n",
       "      <td>1.390943</td>\n",
       "      <td>2.106040</td>\n",
       "    </tr>\n",
       "    <tr>\n",
       "      <th>Kapil</th>\n",
       "      <td>0.618160</td>\n",
       "      <td>0.749763</td>\n",
       "      <td>0.053888</td>\n",
       "      <td>0.524947</td>\n",
       "      <td>0.803651</td>\n",
       "      <td>1.143107</td>\n",
       "      <td>1.946758</td>\n",
       "    </tr>\n",
       "    <tr>\n",
       "      <th>Jigar</th>\n",
       "      <td>0.071877</td>\n",
       "      <td>0.421123</td>\n",
       "      <td>0.832749</td>\n",
       "      <td>0.643583</td>\n",
       "      <td>1.253872</td>\n",
       "      <td>0.715460</td>\n",
       "      <td>1.969332</td>\n",
       "    </tr>\n",
       "    <tr>\n",
       "      <th>Tuba</th>\n",
       "      <td>0.107705</td>\n",
       "      <td>0.580278</td>\n",
       "      <td>0.079063</td>\n",
       "      <td>0.954430</td>\n",
       "      <td>0.659341</td>\n",
       "      <td>1.062135</td>\n",
       "      <td>1.721476</td>\n",
       "    </tr>\n",
       "    <tr>\n",
       "      <th>Saurabh</th>\n",
       "      <td>0.104675</td>\n",
       "      <td>0.449891</td>\n",
       "      <td>0.137850</td>\n",
       "      <td>0.762016</td>\n",
       "      <td>0.587741</td>\n",
       "      <td>0.866691</td>\n",
       "      <td>1.454433</td>\n",
       "    </tr>\n",
       "  </tbody>\n",
       "</table>\n",
       "</div>"
      ],
      "text/plain": [
       "            Maths   Science  Social_Science   English  Gujarati     Hindi  \\\n",
       "Nishad   0.762387  0.310521        0.404577  0.628556  0.715098  1.390943   \n",
       "Kapil    0.618160  0.749763        0.053888  0.524947  0.803651  1.143107   \n",
       "Jigar    0.071877  0.421123        0.832749  0.643583  1.253872  0.715460   \n",
       "Tuba     0.107705  0.580278        0.079063  0.954430  0.659341  1.062135   \n",
       "Saurabh  0.104675  0.449891        0.137850  0.762016  0.587741  0.866691   \n",
       "\n",
       "         Thermodynamics  \n",
       "Nishad         2.106040  \n",
       "Kapil          1.946758  \n",
       "Jigar          1.969332  \n",
       "Tuba           1.721476  \n",
       "Saurabh        1.454433  "
      ]
     },
     "execution_count": 27,
     "metadata": {},
     "output_type": "execute_result"
    }
   ],
   "source": [
    "Akash_dataframe.drop(\"Akash\")   # If we dont specify axis the it will automatically consider axis=0 by default"
   ]
  },
  {
   "cell_type": "code",
   "execution_count": 28,
   "id": "ca3b9775",
   "metadata": {},
   "outputs": [
    {
     "data": {
      "text/html": [
       "<div>\n",
       "<style scoped>\n",
       "    .dataframe tbody tr th:only-of-type {\n",
       "        vertical-align: middle;\n",
       "    }\n",
       "\n",
       "    .dataframe tbody tr th {\n",
       "        vertical-align: top;\n",
       "    }\n",
       "\n",
       "    .dataframe thead th {\n",
       "        text-align: right;\n",
       "    }\n",
       "</style>\n",
       "<table border=\"1\" class=\"dataframe\">\n",
       "  <thead>\n",
       "    <tr style=\"text-align: right;\">\n",
       "      <th></th>\n",
       "      <th>Social_Science</th>\n",
       "      <th>English</th>\n",
       "      <th>Gujarati</th>\n",
       "      <th>Hindi</th>\n",
       "      <th>Thermodynamics</th>\n",
       "    </tr>\n",
       "  </thead>\n",
       "  <tbody>\n",
       "    <tr>\n",
       "      <th>Akash</th>\n",
       "      <td>0.672836</td>\n",
       "      <td>0.024442</td>\n",
       "      <td>1.158144</td>\n",
       "      <td>0.296776</td>\n",
       "      <td>1.454920</td>\n",
       "    </tr>\n",
       "    <tr>\n",
       "      <th>Nishad</th>\n",
       "      <td>0.404577</td>\n",
       "      <td>0.628556</td>\n",
       "      <td>0.715098</td>\n",
       "      <td>1.390943</td>\n",
       "      <td>2.106040</td>\n",
       "    </tr>\n",
       "    <tr>\n",
       "      <th>Kapil</th>\n",
       "      <td>0.053888</td>\n",
       "      <td>0.524947</td>\n",
       "      <td>0.803651</td>\n",
       "      <td>1.143107</td>\n",
       "      <td>1.946758</td>\n",
       "    </tr>\n",
       "    <tr>\n",
       "      <th>Jigar</th>\n",
       "      <td>0.832749</td>\n",
       "      <td>0.643583</td>\n",
       "      <td>1.253872</td>\n",
       "      <td>0.715460</td>\n",
       "      <td>1.969332</td>\n",
       "    </tr>\n",
       "    <tr>\n",
       "      <th>Tuba</th>\n",
       "      <td>0.079063</td>\n",
       "      <td>0.954430</td>\n",
       "      <td>0.659341</td>\n",
       "      <td>1.062135</td>\n",
       "      <td>1.721476</td>\n",
       "    </tr>\n",
       "    <tr>\n",
       "      <th>Saurabh</th>\n",
       "      <td>0.137850</td>\n",
       "      <td>0.762016</td>\n",
       "      <td>0.587741</td>\n",
       "      <td>0.866691</td>\n",
       "      <td>1.454433</td>\n",
       "    </tr>\n",
       "  </tbody>\n",
       "</table>\n",
       "</div>"
      ],
      "text/plain": [
       "         Social_Science   English  Gujarati     Hindi  Thermodynamics\n",
       "Akash          0.672836  0.024442  1.158144  0.296776        1.454920\n",
       "Nishad         0.404577  0.628556  0.715098  1.390943        2.106040\n",
       "Kapil          0.053888  0.524947  0.803651  1.143107        1.946758\n",
       "Jigar          0.832749  0.643583  1.253872  0.715460        1.969332\n",
       "Tuba           0.079063  0.954430  0.659341  1.062135        1.721476\n",
       "Saurabh        0.137850  0.762016  0.587741  0.866691        1.454433"
      ]
     },
     "execution_count": 28,
     "metadata": {},
     "output_type": "execute_result"
    }
   ],
   "source": [
    "Akash_dataframe.drop([\"Maths\",\"Science\"],axis=1)"
   ]
  },
  {
   "cell_type": "code",
   "execution_count": 29,
   "id": "48fe2208",
   "metadata": {},
   "outputs": [
    {
     "data": {
      "text/html": [
       "<div>\n",
       "<style scoped>\n",
       "    .dataframe tbody tr th:only-of-type {\n",
       "        vertical-align: middle;\n",
       "    }\n",
       "\n",
       "    .dataframe tbody tr th {\n",
       "        vertical-align: top;\n",
       "    }\n",
       "\n",
       "    .dataframe thead th {\n",
       "        text-align: right;\n",
       "    }\n",
       "</style>\n",
       "<table border=\"1\" class=\"dataframe\">\n",
       "  <thead>\n",
       "    <tr style=\"text-align: right;\">\n",
       "      <th></th>\n",
       "      <th>ID</th>\n",
       "      <th>Name</th>\n",
       "      <th>Profit</th>\n",
       "    </tr>\n",
       "  </thead>\n",
       "  <tbody>\n",
       "    <tr>\n",
       "      <th>0</th>\n",
       "      <td>121</td>\n",
       "      <td>Akash</td>\n",
       "      <td>245</td>\n",
       "    </tr>\n",
       "    <tr>\n",
       "      <th>1</th>\n",
       "      <td>432</td>\n",
       "      <td>Jyoti</td>\n",
       "      <td>214</td>\n",
       "    </tr>\n",
       "    <tr>\n",
       "      <th>2</th>\n",
       "      <td>231</td>\n",
       "      <td>Nishad</td>\n",
       "      <td>785</td>\n",
       "    </tr>\n",
       "    <tr>\n",
       "      <th>3</th>\n",
       "      <td>156</td>\n",
       "      <td>Kapil</td>\n",
       "      <td>342</td>\n",
       "    </tr>\n",
       "    <tr>\n",
       "      <th>4</th>\n",
       "      <td>298</td>\n",
       "      <td>Tuba</td>\n",
       "      <td>654</td>\n",
       "    </tr>\n",
       "  </tbody>\n",
       "</table>\n",
       "</div>"
      ],
      "text/plain": [
       "    ID    Name  Profit\n",
       "0  121   Akash     245\n",
       "1  432   Jyoti     214\n",
       "2  231  Nishad     785\n",
       "3  156   Kapil     342\n",
       "4  298    Tuba     654"
      ]
     },
     "execution_count": 29,
     "metadata": {},
     "output_type": "execute_result"
    }
   ],
   "source": [
    "Akash_dataframe1={'ID':[121,432,231,156,298],'Name':['Akash','Jyoti','Nishad','Kapil','Tuba'],'Profit':[245,214,785,342,654]} # Dictionary\n",
    "New=pd.DataFrame(Akash_dataframe1)\n",
    "New"
   ]
  },
  {
   "cell_type": "code",
   "execution_count": 30,
   "id": "a225380a",
   "metadata": {},
   "outputs": [
    {
     "data": {
      "text/html": [
       "<div>\n",
       "<style scoped>\n",
       "    .dataframe tbody tr th:only-of-type {\n",
       "        vertical-align: middle;\n",
       "    }\n",
       "\n",
       "    .dataframe tbody tr th {\n",
       "        vertical-align: top;\n",
       "    }\n",
       "\n",
       "    .dataframe thead th {\n",
       "        text-align: right;\n",
       "    }\n",
       "</style>\n",
       "<table border=\"1\" class=\"dataframe\">\n",
       "  <thead>\n",
       "    <tr style=\"text-align: right;\">\n",
       "      <th></th>\n",
       "      <th>Name</th>\n",
       "      <th>Profit</th>\n",
       "    </tr>\n",
       "  </thead>\n",
       "  <tbody>\n",
       "    <tr>\n",
       "      <th>0</th>\n",
       "      <td>Akash</td>\n",
       "      <td>245</td>\n",
       "    </tr>\n",
       "    <tr>\n",
       "      <th>1</th>\n",
       "      <td>Jyoti</td>\n",
       "      <td>214</td>\n",
       "    </tr>\n",
       "    <tr>\n",
       "      <th>2</th>\n",
       "      <td>Nishad</td>\n",
       "      <td>785</td>\n",
       "    </tr>\n",
       "    <tr>\n",
       "      <th>3</th>\n",
       "      <td>Kapil</td>\n",
       "      <td>342</td>\n",
       "    </tr>\n",
       "    <tr>\n",
       "      <th>4</th>\n",
       "      <td>Tuba</td>\n",
       "      <td>654</td>\n",
       "    </tr>\n",
       "  </tbody>\n",
       "</table>\n",
       "</div>"
      ],
      "text/plain": [
       "     Name  Profit\n",
       "0   Akash     245\n",
       "1   Jyoti     214\n",
       "2  Nishad     785\n",
       "3   Kapil     342\n",
       "4    Tuba     654"
      ]
     },
     "execution_count": 30,
     "metadata": {},
     "output_type": "execute_result"
    }
   ],
   "source": [
    "New.drop('ID',axis=1)"
   ]
  },
  {
   "cell_type": "code",
   "execution_count": 31,
   "id": "a8b53ea3",
   "metadata": {},
   "outputs": [
    {
     "data": {
      "text/html": [
       "<div>\n",
       "<style scoped>\n",
       "    .dataframe tbody tr th:only-of-type {\n",
       "        vertical-align: middle;\n",
       "    }\n",
       "\n",
       "    .dataframe tbody tr th {\n",
       "        vertical-align: top;\n",
       "    }\n",
       "\n",
       "    .dataframe thead th {\n",
       "        text-align: right;\n",
       "    }\n",
       "</style>\n",
       "<table border=\"1\" class=\"dataframe\">\n",
       "  <thead>\n",
       "    <tr style=\"text-align: right;\">\n",
       "      <th></th>\n",
       "      <th>ID</th>\n",
       "      <th>Profit</th>\n",
       "    </tr>\n",
       "  </thead>\n",
       "  <tbody>\n",
       "    <tr>\n",
       "      <th>0</th>\n",
       "      <td>121</td>\n",
       "      <td>245</td>\n",
       "    </tr>\n",
       "    <tr>\n",
       "      <th>1</th>\n",
       "      <td>432</td>\n",
       "      <td>214</td>\n",
       "    </tr>\n",
       "    <tr>\n",
       "      <th>2</th>\n",
       "      <td>231</td>\n",
       "      <td>785</td>\n",
       "    </tr>\n",
       "    <tr>\n",
       "      <th>3</th>\n",
       "      <td>156</td>\n",
       "      <td>342</td>\n",
       "    </tr>\n",
       "    <tr>\n",
       "      <th>4</th>\n",
       "      <td>298</td>\n",
       "      <td>654</td>\n",
       "    </tr>\n",
       "  </tbody>\n",
       "</table>\n",
       "</div>"
      ],
      "text/plain": [
       "    ID  Profit\n",
       "0  121     245\n",
       "1  432     214\n",
       "2  231     785\n",
       "3  156     342\n",
       "4  298     654"
      ]
     },
     "execution_count": 31,
     "metadata": {},
     "output_type": "execute_result"
    }
   ],
   "source": [
    "New.drop('Name',axis=1)"
   ]
  },
  {
   "cell_type": "code",
   "execution_count": 32,
   "id": "fb122d26",
   "metadata": {},
   "outputs": [
    {
     "data": {
      "text/html": [
       "<div>\n",
       "<style scoped>\n",
       "    .dataframe tbody tr th:only-of-type {\n",
       "        vertical-align: middle;\n",
       "    }\n",
       "\n",
       "    .dataframe tbody tr th {\n",
       "        vertical-align: top;\n",
       "    }\n",
       "\n",
       "    .dataframe thead th {\n",
       "        text-align: right;\n",
       "    }\n",
       "</style>\n",
       "<table border=\"1\" class=\"dataframe\">\n",
       "  <thead>\n",
       "    <tr style=\"text-align: right;\">\n",
       "      <th></th>\n",
       "      <th>ID</th>\n",
       "      <th>Name</th>\n",
       "    </tr>\n",
       "  </thead>\n",
       "  <tbody>\n",
       "    <tr>\n",
       "      <th>0</th>\n",
       "      <td>121</td>\n",
       "      <td>Akash</td>\n",
       "    </tr>\n",
       "    <tr>\n",
       "      <th>1</th>\n",
       "      <td>432</td>\n",
       "      <td>Jyoti</td>\n",
       "    </tr>\n",
       "    <tr>\n",
       "      <th>2</th>\n",
       "      <td>231</td>\n",
       "      <td>Nishad</td>\n",
       "    </tr>\n",
       "    <tr>\n",
       "      <th>3</th>\n",
       "      <td>156</td>\n",
       "      <td>Kapil</td>\n",
       "    </tr>\n",
       "    <tr>\n",
       "      <th>4</th>\n",
       "      <td>298</td>\n",
       "      <td>Tuba</td>\n",
       "    </tr>\n",
       "  </tbody>\n",
       "</table>\n",
       "</div>"
      ],
      "text/plain": [
       "    ID    Name\n",
       "0  121   Akash\n",
       "1  432   Jyoti\n",
       "2  231  Nishad\n",
       "3  156   Kapil\n",
       "4  298    Tuba"
      ]
     },
     "execution_count": 32,
     "metadata": {},
     "output_type": "execute_result"
    }
   ],
   "source": [
    "New.drop('Profit',axis=1)"
   ]
  },
  {
   "cell_type": "code",
   "execution_count": 33,
   "id": "f9292259",
   "metadata": {},
   "outputs": [
    {
     "data": {
      "text/html": [
       "<div>\n",
       "<style scoped>\n",
       "    .dataframe tbody tr th:only-of-type {\n",
       "        vertical-align: middle;\n",
       "    }\n",
       "\n",
       "    .dataframe tbody tr th {\n",
       "        vertical-align: top;\n",
       "    }\n",
       "\n",
       "    .dataframe thead th {\n",
       "        text-align: right;\n",
       "    }\n",
       "</style>\n",
       "<table border=\"1\" class=\"dataframe\">\n",
       "  <thead>\n",
       "    <tr style=\"text-align: right;\">\n",
       "      <th></th>\n",
       "      <th>ID</th>\n",
       "      <th>Name</th>\n",
       "      <th>Profit</th>\n",
       "    </tr>\n",
       "  </thead>\n",
       "  <tbody>\n",
       "    <tr>\n",
       "      <th>0</th>\n",
       "      <td>121</td>\n",
       "      <td>Akash</td>\n",
       "      <td>245</td>\n",
       "    </tr>\n",
       "    <tr>\n",
       "      <th>1</th>\n",
       "      <td>432</td>\n",
       "      <td>Jyoti</td>\n",
       "      <td>214</td>\n",
       "    </tr>\n",
       "    <tr>\n",
       "      <th>2</th>\n",
       "      <td>231</td>\n",
       "      <td>Nishad</td>\n",
       "      <td>785</td>\n",
       "    </tr>\n",
       "    <tr>\n",
       "      <th>4</th>\n",
       "      <td>298</td>\n",
       "      <td>Tuba</td>\n",
       "      <td>654</td>\n",
       "    </tr>\n",
       "  </tbody>\n",
       "</table>\n",
       "</div>"
      ],
      "text/plain": [
       "    ID    Name  Profit\n",
       "0  121   Akash     245\n",
       "1  432   Jyoti     214\n",
       "2  231  Nishad     785\n",
       "4  298    Tuba     654"
      ]
     },
     "execution_count": 33,
     "metadata": {},
     "output_type": "execute_result"
    }
   ],
   "source": [
    "New.drop(3)"
   ]
  },
  {
   "cell_type": "code",
   "execution_count": 34,
   "id": "d993835e",
   "metadata": {},
   "outputs": [
    {
     "data": {
      "text/html": [
       "<div>\n",
       "<style scoped>\n",
       "    .dataframe tbody tr th:only-of-type {\n",
       "        vertical-align: middle;\n",
       "    }\n",
       "\n",
       "    .dataframe tbody tr th {\n",
       "        vertical-align: top;\n",
       "    }\n",
       "\n",
       "    .dataframe thead th {\n",
       "        text-align: right;\n",
       "    }\n",
       "</style>\n",
       "<table border=\"1\" class=\"dataframe\">\n",
       "  <thead>\n",
       "    <tr style=\"text-align: right;\">\n",
       "      <th></th>\n",
       "      <th>ID</th>\n",
       "      <th>Name</th>\n",
       "      <th>Profit</th>\n",
       "    </tr>\n",
       "  </thead>\n",
       "  <tbody>\n",
       "    <tr>\n",
       "      <th>1</th>\n",
       "      <td>432</td>\n",
       "      <td>Jyoti</td>\n",
       "      <td>214</td>\n",
       "    </tr>\n",
       "    <tr>\n",
       "      <th>2</th>\n",
       "      <td>231</td>\n",
       "      <td>Nishad</td>\n",
       "      <td>785</td>\n",
       "    </tr>\n",
       "    <tr>\n",
       "      <th>3</th>\n",
       "      <td>156</td>\n",
       "      <td>Kapil</td>\n",
       "      <td>342</td>\n",
       "    </tr>\n",
       "    <tr>\n",
       "      <th>4</th>\n",
       "      <td>298</td>\n",
       "      <td>Tuba</td>\n",
       "      <td>654</td>\n",
       "    </tr>\n",
       "  </tbody>\n",
       "</table>\n",
       "</div>"
      ],
      "text/plain": [
       "    ID    Name  Profit\n",
       "1  432   Jyoti     214\n",
       "2  231  Nishad     785\n",
       "3  156   Kapil     342\n",
       "4  298    Tuba     654"
      ]
     },
     "execution_count": 34,
     "metadata": {},
     "output_type": "execute_result"
    }
   ],
   "source": [
    "New.drop(0)"
   ]
  },
  {
   "cell_type": "code",
   "execution_count": 35,
   "id": "e60ea043",
   "metadata": {},
   "outputs": [
    {
     "data": {
      "text/html": [
       "<div>\n",
       "<style scoped>\n",
       "    .dataframe tbody tr th:only-of-type {\n",
       "        vertical-align: middle;\n",
       "    }\n",
       "\n",
       "    .dataframe tbody tr th {\n",
       "        vertical-align: top;\n",
       "    }\n",
       "\n",
       "    .dataframe thead th {\n",
       "        text-align: right;\n",
       "    }\n",
       "</style>\n",
       "<table border=\"1\" class=\"dataframe\">\n",
       "  <thead>\n",
       "    <tr style=\"text-align: right;\">\n",
       "      <th></th>\n",
       "      <th>ID</th>\n",
       "      <th>Name</th>\n",
       "      <th>Profit</th>\n",
       "    </tr>\n",
       "  </thead>\n",
       "  <tbody>\n",
       "    <tr>\n",
       "      <th>0</th>\n",
       "      <td>121</td>\n",
       "      <td>Akash</td>\n",
       "      <td>245</td>\n",
       "    </tr>\n",
       "    <tr>\n",
       "      <th>1</th>\n",
       "      <td>432</td>\n",
       "      <td>Jyoti</td>\n",
       "      <td>214</td>\n",
       "    </tr>\n",
       "    <tr>\n",
       "      <th>2</th>\n",
       "      <td>231</td>\n",
       "      <td>Nishad</td>\n",
       "      <td>785</td>\n",
       "    </tr>\n",
       "    <tr>\n",
       "      <th>3</th>\n",
       "      <td>156</td>\n",
       "      <td>Kapil</td>\n",
       "      <td>342</td>\n",
       "    </tr>\n",
       "  </tbody>\n",
       "</table>\n",
       "</div>"
      ],
      "text/plain": [
       "    ID    Name  Profit\n",
       "0  121   Akash     245\n",
       "1  432   Jyoti     214\n",
       "2  231  Nishad     785\n",
       "3  156   Kapil     342"
      ]
     },
     "execution_count": 35,
     "metadata": {},
     "output_type": "execute_result"
    }
   ],
   "source": [
    "New.drop(4)"
   ]
  },
  {
   "cell_type": "code",
   "execution_count": 36,
   "id": "533dcdb7",
   "metadata": {},
   "outputs": [
    {
     "data": {
      "text/plain": [
       "0     Akash\n",
       "1     Jyoti\n",
       "2    Nishad\n",
       "3     Kapil\n",
       "4      Tuba\n",
       "Name: Name, dtype: object"
      ]
     },
     "execution_count": 36,
     "metadata": {},
     "output_type": "execute_result"
    }
   ],
   "source": [
    "New['Name']"
   ]
  },
  {
   "cell_type": "code",
   "execution_count": 37,
   "id": "5c93d3a7",
   "metadata": {},
   "outputs": [
    {
     "data": {
      "text/plain": [
       "0    121\n",
       "1    432\n",
       "2    231\n",
       "3    156\n",
       "4    298\n",
       "Name: ID, dtype: int64"
      ]
     },
     "execution_count": 37,
     "metadata": {},
     "output_type": "execute_result"
    }
   ],
   "source": [
    "New['ID']"
   ]
  },
  {
   "cell_type": "code",
   "execution_count": 38,
   "id": "3e9f52a8",
   "metadata": {},
   "outputs": [
    {
     "data": {
      "text/plain": [
       "0    245\n",
       "1    214\n",
       "2    785\n",
       "3    342\n",
       "4    654\n",
       "Name: Profit, dtype: int64"
      ]
     },
     "execution_count": 38,
     "metadata": {},
     "output_type": "execute_result"
    }
   ],
   "source": [
    "New['Profit']"
   ]
  },
  {
   "cell_type": "code",
   "execution_count": 39,
   "id": "e3d7a074",
   "metadata": {},
   "outputs": [
    {
     "data": {
      "text/html": [
       "<div>\n",
       "<style scoped>\n",
       "    .dataframe tbody tr th:only-of-type {\n",
       "        vertical-align: middle;\n",
       "    }\n",
       "\n",
       "    .dataframe tbody tr th {\n",
       "        vertical-align: top;\n",
       "    }\n",
       "\n",
       "    .dataframe thead th {\n",
       "        text-align: right;\n",
       "    }\n",
       "</style>\n",
       "<table border=\"1\" class=\"dataframe\">\n",
       "  <thead>\n",
       "    <tr style=\"text-align: right;\">\n",
       "      <th></th>\n",
       "      <th>Name</th>\n",
       "      <th>ID</th>\n",
       "    </tr>\n",
       "  </thead>\n",
       "  <tbody>\n",
       "    <tr>\n",
       "      <th>0</th>\n",
       "      <td>Akash</td>\n",
       "      <td>121</td>\n",
       "    </tr>\n",
       "    <tr>\n",
       "      <th>1</th>\n",
       "      <td>Jyoti</td>\n",
       "      <td>432</td>\n",
       "    </tr>\n",
       "    <tr>\n",
       "      <th>2</th>\n",
       "      <td>Nishad</td>\n",
       "      <td>231</td>\n",
       "    </tr>\n",
       "    <tr>\n",
       "      <th>3</th>\n",
       "      <td>Kapil</td>\n",
       "      <td>156</td>\n",
       "    </tr>\n",
       "    <tr>\n",
       "      <th>4</th>\n",
       "      <td>Tuba</td>\n",
       "      <td>298</td>\n",
       "    </tr>\n",
       "  </tbody>\n",
       "</table>\n",
       "</div>"
      ],
      "text/plain": [
       "     Name   ID\n",
       "0   Akash  121\n",
       "1   Jyoti  432\n",
       "2  Nishad  231\n",
       "3   Kapil  156\n",
       "4    Tuba  298"
      ]
     },
     "execution_count": 39,
     "metadata": {},
     "output_type": "execute_result"
    }
   ],
   "source": [
    "New[['Name','ID']]"
   ]
  },
  {
   "cell_type": "code",
   "execution_count": 40,
   "id": "4b301cc3",
   "metadata": {},
   "outputs": [
    {
     "data": {
      "text/html": [
       "<div>\n",
       "<style scoped>\n",
       "    .dataframe tbody tr th:only-of-type {\n",
       "        vertical-align: middle;\n",
       "    }\n",
       "\n",
       "    .dataframe tbody tr th {\n",
       "        vertical-align: top;\n",
       "    }\n",
       "\n",
       "    .dataframe thead th {\n",
       "        text-align: right;\n",
       "    }\n",
       "</style>\n",
       "<table border=\"1\" class=\"dataframe\">\n",
       "  <thead>\n",
       "    <tr style=\"text-align: right;\">\n",
       "      <th></th>\n",
       "      <th>Name</th>\n",
       "      <th>Profit</th>\n",
       "    </tr>\n",
       "  </thead>\n",
       "  <tbody>\n",
       "    <tr>\n",
       "      <th>0</th>\n",
       "      <td>Akash</td>\n",
       "      <td>245</td>\n",
       "    </tr>\n",
       "    <tr>\n",
       "      <th>1</th>\n",
       "      <td>Jyoti</td>\n",
       "      <td>214</td>\n",
       "    </tr>\n",
       "    <tr>\n",
       "      <th>2</th>\n",
       "      <td>Nishad</td>\n",
       "      <td>785</td>\n",
       "    </tr>\n",
       "    <tr>\n",
       "      <th>3</th>\n",
       "      <td>Kapil</td>\n",
       "      <td>342</td>\n",
       "    </tr>\n",
       "    <tr>\n",
       "      <th>4</th>\n",
       "      <td>Tuba</td>\n",
       "      <td>654</td>\n",
       "    </tr>\n",
       "  </tbody>\n",
       "</table>\n",
       "</div>"
      ],
      "text/plain": [
       "     Name  Profit\n",
       "0   Akash     245\n",
       "1   Jyoti     214\n",
       "2  Nishad     785\n",
       "3   Kapil     342\n",
       "4    Tuba     654"
      ]
     },
     "execution_count": 40,
     "metadata": {},
     "output_type": "execute_result"
    }
   ],
   "source": [
    "New[['Name','Profit']]"
   ]
  },
  {
   "cell_type": "code",
   "execution_count": 41,
   "id": "0729dcf3",
   "metadata": {},
   "outputs": [
    {
     "data": {
      "text/html": [
       "<div>\n",
       "<style scoped>\n",
       "    .dataframe tbody tr th:only-of-type {\n",
       "        vertical-align: middle;\n",
       "    }\n",
       "\n",
       "    .dataframe tbody tr th {\n",
       "        vertical-align: top;\n",
       "    }\n",
       "\n",
       "    .dataframe thead th {\n",
       "        text-align: right;\n",
       "    }\n",
       "</style>\n",
       "<table border=\"1\" class=\"dataframe\">\n",
       "  <thead>\n",
       "    <tr style=\"text-align: right;\">\n",
       "      <th></th>\n",
       "      <th>Profit</th>\n",
       "      <th>ID</th>\n",
       "    </tr>\n",
       "  </thead>\n",
       "  <tbody>\n",
       "    <tr>\n",
       "      <th>0</th>\n",
       "      <td>245</td>\n",
       "      <td>121</td>\n",
       "    </tr>\n",
       "    <tr>\n",
       "      <th>1</th>\n",
       "      <td>214</td>\n",
       "      <td>432</td>\n",
       "    </tr>\n",
       "    <tr>\n",
       "      <th>2</th>\n",
       "      <td>785</td>\n",
       "      <td>231</td>\n",
       "    </tr>\n",
       "    <tr>\n",
       "      <th>3</th>\n",
       "      <td>342</td>\n",
       "      <td>156</td>\n",
       "    </tr>\n",
       "    <tr>\n",
       "      <th>4</th>\n",
       "      <td>654</td>\n",
       "      <td>298</td>\n",
       "    </tr>\n",
       "  </tbody>\n",
       "</table>\n",
       "</div>"
      ],
      "text/plain": [
       "   Profit   ID\n",
       "0     245  121\n",
       "1     214  432\n",
       "2     785  231\n",
       "3     342  156\n",
       "4     654  298"
      ]
     },
     "execution_count": 41,
     "metadata": {},
     "output_type": "execute_result"
    }
   ],
   "source": [
    "New[['Profit','ID']]"
   ]
  }
 ],
 "metadata": {
  "kernelspec": {
   "display_name": "Python 3 (ipykernel)",
   "language": "python",
   "name": "python3"
  },
  "language_info": {
   "codemirror_mode": {
    "name": "ipython",
    "version": 3
   },
   "file_extension": ".py",
   "mimetype": "text/x-python",
   "name": "python",
   "nbconvert_exporter": "python",
   "pygments_lexer": "ipython3",
   "version": "3.9.7"
  }
 },
 "nbformat": 4,
 "nbformat_minor": 5
}
